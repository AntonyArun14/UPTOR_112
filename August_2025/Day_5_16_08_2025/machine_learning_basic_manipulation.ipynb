{
 "cells": [
  {
   "cell_type": "code",
   "execution_count": 103,
   "id": "d377da0e-35d3-4df2-882d-ba78910be4ef",
   "metadata": {},
   "outputs": [],
   "source": [
    "import pandas as pd"
   ]
  },
  {
   "cell_type": "code",
   "execution_count": 104,
   "id": "492e0a75-7a6d-43c7-a2ca-67b2957410b4",
   "metadata": {},
   "outputs": [
    {
     "name": "stdout",
     "output_type": "stream",
     "text": [
      "       Unnamed: 0  carat        cut color clarity  depth  table   price     x  \\\n",
      "0               1   0.23      Ideal     E     SI2    NaN   55.0   326.0  3.95   \n",
      "1               2   0.21    Premium     E     SI1   59.8    NaN   326.0  3.89   \n",
      "2               3   0.23       Good     E     VS1   56.9   65.0     NaN  4.05   \n",
      "3               4   0.29    Premium     I     VS2   62.4   58.0   334.0   NaN   \n",
      "4               5   0.31       Good     J     SI2   63.3   58.0   335.0  4.34   \n",
      "...           ...    ...        ...   ...     ...    ...    ...     ...   ...   \n",
      "53935       53936   0.72      Ideal     D     SI1   60.8   57.0  2757.0  5.75   \n",
      "53936       53937   0.72       Good     D     SI1   63.1   55.0  2757.0  5.69   \n",
      "53937       53938   0.70  Very Good     D     SI1   62.8   60.0  2757.0  5.66   \n",
      "53938       53939   0.86    Premium     H     SI2   61.0   58.0  2757.0  6.15   \n",
      "53939       53940   0.75      Ideal     D     SI2   62.2   55.0  2757.0  5.83   \n",
      "\n",
      "          y     z  \n",
      "0      3.98  2.43  \n",
      "1      3.84  2.31  \n",
      "2      4.07  2.31  \n",
      "3       NaN   NaN  \n",
      "4      4.35  2.75  \n",
      "...     ...   ...  \n",
      "53935  5.76  3.50  \n",
      "53936  5.75  3.61  \n",
      "53937  5.68  3.56  \n",
      "53938  6.12  3.74  \n",
      "53939  5.87  3.64  \n",
      "\n",
      "[53940 rows x 11 columns]\n"
     ]
    }
   ],
   "source": [
    "df = pd.read_csv(\"diamonds.csv\")\n",
    "print(df)"
   ]
  },
  {
   "cell_type": "code",
   "execution_count": 105,
   "id": "581d8d58-7a9e-47a7-886a-c15aa1695b8f",
   "metadata": {},
   "outputs": [
    {
     "name": "stdout",
     "output_type": "stream",
     "text": [
      "Index(['Unnamed: 0', 'carat', 'cut', 'color', 'clarity', 'depth', 'table',\n",
      "       'price', 'x', 'y', 'z'],\n",
      "      dtype='object')\n"
     ]
    }
   ],
   "source": [
    "column = df.columns\n",
    "print(column)"
   ]
  },
  {
   "cell_type": "code",
   "execution_count": 106,
   "id": "0a43974b-7d35-4d28-b27f-16d8deb85646",
   "metadata": {},
   "outputs": [
    {
     "name": "stdout",
     "output_type": "stream",
     "text": [
      "       carat        cut color clarity  depth  table   price     x     y     z\n",
      "0       0.23      Ideal     E     SI2    NaN   55.0   326.0  3.95  3.98  2.43\n",
      "1       0.21    Premium     E     SI1   59.8    NaN   326.0  3.89  3.84  2.31\n",
      "2       0.23       Good     E     VS1   56.9   65.0     NaN  4.05  4.07  2.31\n",
      "3       0.29    Premium     I     VS2   62.4   58.0   334.0   NaN   NaN   NaN\n",
      "4       0.31       Good     J     SI2   63.3   58.0   335.0  4.34  4.35  2.75\n",
      "...      ...        ...   ...     ...    ...    ...     ...   ...   ...   ...\n",
      "53935   0.72      Ideal     D     SI1   60.8   57.0  2757.0  5.75  5.76  3.50\n",
      "53936   0.72       Good     D     SI1   63.1   55.0  2757.0  5.69  5.75  3.61\n",
      "53937   0.70  Very Good     D     SI1   62.8   60.0  2757.0  5.66  5.68  3.56\n",
      "53938   0.86    Premium     H     SI2   61.0   58.0  2757.0  6.15  6.12  3.74\n",
      "53939   0.75      Ideal     D     SI2   62.2   55.0  2757.0  5.83  5.87  3.64\n",
      "\n",
      "[53940 rows x 10 columns]\n"
     ]
    }
   ],
   "source": [
    "df.drop(['Unnamed: 0'], axis=1, inplace= True)\n",
    "print(df)"
   ]
  },
  {
   "cell_type": "code",
   "execution_count": 107,
   "id": "95535895-af5b-4d2b-9e18-1502931bcf49",
   "metadata": {},
   "outputs": [
    {
     "name": "stdout",
     "output_type": "stream",
     "text": [
      "carat      float64\n",
      "cut         object\n",
      "color       object\n",
      "clarity     object\n",
      "depth      float64\n",
      "table      float64\n",
      "price      float64\n",
      "x          float64\n",
      "y          float64\n",
      "z          float64\n",
      "dtype: object\n"
     ]
    }
   ],
   "source": [
    "col_dtypes = df.dtypes \n",
    "print(col_dtypes)"
   ]
  },
  {
   "cell_type": "code",
   "execution_count": 108,
   "id": "9d4f66c6-823d-4cfa-b066-99487868316d",
   "metadata": {},
   "outputs": [
    {
     "name": "stdout",
     "output_type": "stream",
     "text": [
      "['Ideal' 'Premium' 'Good' 'Very Good' 'Fair']\n"
     ]
    }
   ],
   "source": [
    "cut_column_detailing =df[\"cut\"].unique()\n",
    "print(cut_column_detailing)"
   ]
  },
  {
   "cell_type": "code",
   "execution_count": 109,
   "id": "47d4bb38-8da1-424c-9603-210e1e59602a",
   "metadata": {},
   "outputs": [
    {
     "name": "stdout",
     "output_type": "stream",
     "text": [
      "5\n"
     ]
    }
   ],
   "source": [
    "cut_category_count =df[\"cut\"].nunique()\n",
    "print(cut_category_count)"
   ]
  },
  {
   "cell_type": "code",
   "execution_count": 110,
   "id": "064fbfab-b384-409f-9acb-67826c470f72",
   "metadata": {},
   "outputs": [
    {
     "name": "stdout",
     "output_type": "stream",
     "text": [
      "cut\n",
      "Ideal        21551\n",
      "Premium      13791\n",
      "Very Good    12082\n",
      "Good          4906\n",
      "Fair          1610\n",
      "Name: count, dtype: int64\n"
     ]
    }
   ],
   "source": [
    "total_category_Count = df[\"cut\"].value_counts()\n",
    "print(total_category_Count)"
   ]
  },
  {
   "cell_type": "code",
   "execution_count": 111,
   "id": "ba190935-09c7-4620-8dc6-3e7d873a9f7f",
   "metadata": {},
   "outputs": [
    {
     "name": "stdout",
     "output_type": "stream",
     "text": [
      "       carat    cut  color  clarity  depth  table  price      x      y      z\n",
      "0      False  False  False    False   True  False  False  False  False  False\n",
      "1      False  False  False    False  False   True  False  False  False  False\n",
      "2      False  False  False    False  False  False   True  False  False  False\n",
      "3      False  False  False    False  False  False  False   True   True   True\n",
      "4      False  False  False    False  False  False  False  False  False  False\n",
      "...      ...    ...    ...      ...    ...    ...    ...    ...    ...    ...\n",
      "53935  False  False  False    False  False  False  False  False  False  False\n",
      "53936  False  False  False    False  False  False  False  False  False  False\n",
      "53937  False  False  False    False  False  False  False  False  False  False\n",
      "53938  False  False  False    False  False  False  False  False  False  False\n",
      "53939  False  False  False    False  False  False  False  False  False  False\n",
      "\n",
      "[53940 rows x 10 columns]\n"
     ]
    }
   ],
   "source": [
    "finding_null  = df.isna()\n",
    "print(finding_null)"
   ]
  },
  {
   "cell_type": "code",
   "execution_count": 112,
   "id": "b43e3ab9-fc20-4dfe-ac9c-6b81901904b6",
   "metadata": {},
   "outputs": [
    {
     "name": "stdout",
     "output_type": "stream",
     "text": [
      "13\n"
     ]
    }
   ],
   "source": [
    "finding_total_count  = df.isna().sum().sum()\n",
    "print(finding_total_count)"
   ]
  },
  {
   "cell_type": "code",
   "execution_count": 113,
   "id": "3756a431-eaea-4ef9-ac30-502fa3df5c43",
   "metadata": {},
   "outputs": [
    {
     "name": "stdout",
     "output_type": "stream",
     "text": [
      "carat      0\n",
      "cut        0\n",
      "color      0\n",
      "clarity    0\n",
      "depth      2\n",
      "table      4\n",
      "price      2\n",
      "x          1\n",
      "y          2\n",
      "z          2\n",
      "dtype: int64\n"
     ]
    }
   ],
   "source": [
    "finding_null  = df.isna().sum()\n",
    "print(finding_null)"
   ]
  },
  {
   "cell_type": "code",
   "execution_count": 114,
   "id": "c419d4e5-43c2-4f73-b203-d60625e40bdb",
   "metadata": {},
   "outputs": [],
   "source": [
    "#df.fillna(1000, inplace=True)"
   ]
  },
  {
   "cell_type": "code",
   "execution_count": 115,
   "id": "928c1def-eae3-4829-9764-c992e860cba1",
   "metadata": {},
   "outputs": [
    {
     "name": "stdout",
     "output_type": "stream",
     "text": [
      "       carat        cut color clarity  depth  table   price     x     y     z\n",
      "0       0.23      Ideal     E     SI2    NaN   55.0   326.0  3.95  3.98  2.43\n",
      "1       0.21    Premium     E     SI1   59.8    NaN   326.0  3.89  3.84  2.31\n",
      "2       0.23       Good     E     VS1   56.9   65.0     NaN  4.05  4.07  2.31\n",
      "3       0.29    Premium     I     VS2   62.4   58.0   334.0   NaN   NaN   NaN\n",
      "4       0.31       Good     J     SI2   63.3   58.0   335.0  4.34  4.35  2.75\n",
      "...      ...        ...   ...     ...    ...    ...     ...   ...   ...   ...\n",
      "53935   0.72      Ideal     D     SI1   60.8   57.0  2757.0  5.75  5.76  3.50\n",
      "53936   0.72       Good     D     SI1   63.1   55.0  2757.0  5.69  5.75  3.61\n",
      "53937   0.70  Very Good     D     SI1   62.8   60.0  2757.0  5.66  5.68  3.56\n",
      "53938   0.86    Premium     H     SI2   61.0   58.0  2757.0  6.15  6.12  3.74\n",
      "53939   0.75      Ideal     D     SI2   62.2   55.0  2757.0  5.83  5.87  3.64\n",
      "\n",
      "[53940 rows x 10 columns]\n"
     ]
    }
   ],
   "source": [
    "print(df)"
   ]
  },
  {
   "cell_type": "code",
   "execution_count": 116,
   "id": "87713f69-36f7-4538-a0c2-568cf5c0c455",
   "metadata": {},
   "outputs": [
    {
     "name": "stdout",
     "output_type": "stream",
     "text": [
      "       carat        cut color clarity  depth  table   price     x     y     z\n",
      "0       0.31       Good     J     SI2   63.3   58.0   335.0  4.34  4.35  2.75\n",
      "1       0.24  Very Good     J    VVS2   62.8   57.0   336.0  3.94  3.96  2.48\n",
      "2       0.24  Very Good     I    VVS1   62.3   57.0   336.0  3.95  3.98  2.47\n",
      "3       0.22       Fair     E     VS2   65.1   61.0   337.0  3.87  3.78  2.49\n",
      "4       0.22    Premium     F     SI1   60.4   61.0   342.0  3.88  3.84  2.33\n",
      "...      ...        ...   ...     ...    ...    ...     ...   ...   ...   ...\n",
      "53927   0.72      Ideal     D     SI1   60.8   57.0  2757.0  5.75  5.76  3.50\n",
      "53928   0.72       Good     D     SI1   63.1   55.0  2757.0  5.69  5.75  3.61\n",
      "53929   0.70  Very Good     D     SI1   62.8   60.0  2757.0  5.66  5.68  3.56\n",
      "53930   0.86    Premium     H     SI2   61.0   58.0  2757.0  6.15  6.12  3.74\n",
      "53931   0.75      Ideal     D     SI2   62.2   55.0  2757.0  5.83  5.87  3.64\n",
      "\n",
      "[53932 rows x 10 columns]\n"
     ]
    }
   ],
   "source": [
    "df.dropna(inplace=True)\n",
    "df = df.reset_index(drop=True)\n",
    "print(df)"
   ]
  },
  {
   "cell_type": "code",
   "execution_count": null,
   "id": "17042919-091a-40e8-9092-4ef42a362a1c",
   "metadata": {},
   "outputs": [],
   "source": []
  },
  {
   "cell_type": "code",
   "execution_count": null,
   "id": "94219f68-fe4f-458b-8790-e5ac47fd304d",
   "metadata": {},
   "outputs": [],
   "source": []
  },
  {
   "cell_type": "code",
   "execution_count": null,
   "id": "17904a7a-bd24-4abb-9fae-a37092a83fca",
   "metadata": {},
   "outputs": [],
   "source": []
  },
  {
   "cell_type": "code",
   "execution_count": null,
   "id": "39128a54-016d-4503-b8ec-82033cf54a24",
   "metadata": {},
   "outputs": [],
   "source": []
  },
  {
   "cell_type": "code",
   "execution_count": null,
   "id": "8c61f3a0-1b9c-4cfc-a7c5-f1ce3fbbd86a",
   "metadata": {},
   "outputs": [],
   "source": []
  },
  {
   "cell_type": "code",
   "execution_count": null,
   "id": "fb4783f4-8f0c-4236-bc5a-5e435705ade5",
   "metadata": {},
   "outputs": [],
   "source": []
  },
  {
   "cell_type": "code",
   "execution_count": null,
   "id": "36188acc-ca9d-4255-90b0-14e98dff80db",
   "metadata": {},
   "outputs": [],
   "source": []
  }
 ],
 "metadata": {
  "kernelspec": {
   "display_name": "Python 3 (ipykernel)",
   "language": "python",
   "name": "python3"
  },
  "language_info": {
   "codemirror_mode": {
    "name": "ipython",
    "version": 3
   },
   "file_extension": ".py",
   "mimetype": "text/x-python",
   "name": "python",
   "nbconvert_exporter": "python",
   "pygments_lexer": "ipython3",
   "version": "3.12.8"
  }
 },
 "nbformat": 4,
 "nbformat_minor": 5
}
