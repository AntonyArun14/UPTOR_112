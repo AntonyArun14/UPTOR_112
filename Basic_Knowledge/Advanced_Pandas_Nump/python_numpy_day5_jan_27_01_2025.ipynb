{
 "cells": [
  {
   "cell_type": "code",
   "execution_count": 1,
   "id": "a111f3e7-3055-43b4-941a-052b5ae386f3",
   "metadata": {},
   "outputs": [],
   "source": [
    "import numpy"
   ]
  },
  {
   "cell_type": "code",
   "execution_count": 2,
   "id": "c8fe00ff-1440-4210-a719-ff26e2b29f27",
   "metadata": {},
   "outputs": [
    {
     "ename": "TypeError",
     "evalue": "unsupported operand type(s) for /: 'list' and 'int'",
     "output_type": "error",
     "traceback": [
      "\u001b[1;31m---------------------------------------------------------------------------\u001b[0m",
      "\u001b[1;31mTypeError\u001b[0m                                 Traceback (most recent call last)",
      "Cell \u001b[1;32mIn[2], line 2\u001b[0m\n\u001b[0;32m      1\u001b[0m my_list \u001b[38;5;241m=\u001b[39m [\u001b[38;5;241m2\u001b[39m,\u001b[38;5;241m4\u001b[39m,\u001b[38;5;241m6\u001b[39m,\u001b[38;5;241m8\u001b[39m]\n\u001b[1;32m----> 2\u001b[0m output \u001b[38;5;241m=\u001b[39m \u001b[43mmy_list\u001b[49m\u001b[38;5;241;43m/\u001b[39;49m\u001b[38;5;241;43m2\u001b[39;49m\n\u001b[0;32m      3\u001b[0m output\n",
      "\u001b[1;31mTypeError\u001b[0m: unsupported operand type(s) for /: 'list' and 'int'"
     ]
    }
   ],
   "source": [
    "my_list = [2,4,6,8]\n",
    "output = my_list/2\n",
    "output"
   ]
  },
  {
   "cell_type": "code",
   "execution_count": 4,
   "id": "f52021a0-80b6-46b4-add5-25def753da66",
   "metadata": {},
   "outputs": [
    {
     "name": "stdout",
     "output_type": "stream",
     "text": [
      "[1. 2. 3. 4.]\n"
     ]
    }
   ],
   "source": [
    "my_list = numpy.array([2,4,6,8])\n",
    "output = my_list/2\n",
    "print(output)"
   ]
  },
  {
   "cell_type": "code",
   "execution_count": 6,
   "id": "4bc002a9-681c-4bd5-8345-e4eb64a991cc",
   "metadata": {},
   "outputs": [
    {
     "data": {
      "text/plain": [
       "array([[ 2,  4,  6,  8],\n",
       "       [ 3,  6,  9, 12]])"
      ]
     },
     "execution_count": 6,
     "metadata": {},
     "output_type": "execute_result"
    }
   ],
   "source": [
    "my_two_dimension_array = numpy.array([[2,4,6,8],[3,6,9,12]])\n",
    "my_two_dimension_array"
   ]
  },
  {
   "cell_type": "code",
   "execution_count": 7,
   "id": "ea3f8747-5405-458a-87f3-84f46244e68e",
   "metadata": {},
   "outputs": [
    {
     "data": {
      "text/plain": [
       "2"
      ]
     },
     "execution_count": 7,
     "metadata": {},
     "output_type": "execute_result"
    }
   ],
   "source": [
    "my_two_dimension_array.ndim"
   ]
  },
  {
   "cell_type": "code",
   "execution_count": 8,
   "id": "90fff05d-3df4-41d9-aec1-8fe512c9e991",
   "metadata": {},
   "outputs": [
    {
     "data": {
      "text/plain": [
       "array([[[ 2,  4,  6,  8],\n",
       "        [ 3,  6,  9, 12]],\n",
       "\n",
       "       [[ 1,  2,  3,  4],\n",
       "        [ 2,  4,  6,  8]]])"
      ]
     },
     "execution_count": 8,
     "metadata": {},
     "output_type": "execute_result"
    }
   ],
   "source": [
    "multi_dimension_array = numpy.array([[[2,4,6,8],[3,6,9,12]],[[1,2,3,4],[2,4,6,8]]])\n",
    "multi_dimension_array"
   ]
  },
  {
   "cell_type": "code",
   "execution_count": 10,
   "id": "21630bc8-c17e-448d-8aaf-b4ea5c8aca27",
   "metadata": {},
   "outputs": [
    {
     "data": {
      "text/plain": [
       "3"
      ]
     },
     "execution_count": 10,
     "metadata": {},
     "output_type": "execute_result"
    }
   ],
   "source": [
    "multi_dimension_array.ndim"
   ]
  },
  {
   "cell_type": "code",
   "execution_count": 11,
   "id": "ca6c409f-c033-48d9-a786-63c9d91b084c",
   "metadata": {},
   "outputs": [
    {
     "data": {
      "text/plain": [
       "array([[0., 0., 0.],\n",
       "       [0., 0., 0.]])"
      ]
     },
     "execution_count": 11,
     "metadata": {},
     "output_type": "execute_result"
    }
   ],
   "source": [
    "array_with_zeros = numpy.zeros((2,3))\n",
    "array_with_zeros"
   ]
  },
  {
   "cell_type": "code",
   "execution_count": 12,
   "id": "2cf3b848-d185-4152-b38d-58399401a26a",
   "metadata": {},
   "outputs": [
    {
     "data": {
      "text/plain": [
       "array([[1., 1., 1.],\n",
       "       [1., 1., 1.]])"
      ]
     },
     "execution_count": 12,
     "metadata": {},
     "output_type": "execute_result"
    }
   ],
   "source": [
    "array_with_ones = numpy.ones((2,3))\n",
    "array_with_ones"
   ]
  },
  {
   "cell_type": "code",
   "execution_count": 13,
   "id": "01f2e3e4-0a99-4f71-bdba-62684cc9257c",
   "metadata": {},
   "outputs": [
    {
     "data": {
      "text/plain": [
       "array([ 0,  1,  2,  3,  4,  5,  6,  7,  8,  9, 10, 11, 12, 13, 14, 15, 16,\n",
       "       17, 18, 19])"
      ]
     },
     "execution_count": 13,
     "metadata": {},
     "output_type": "execute_result"
    }
   ],
   "source": [
    "data_with_range = numpy.arange(20)\n",
    "data_with_range"
   ]
  },
  {
   "cell_type": "code",
   "execution_count": 14,
   "id": "b916e017-e441-4b76-8bd8-f461c1273fb7",
   "metadata": {},
   "outputs": [
    {
     "data": {
      "text/plain": [
       "array([ 2,  3,  4,  5,  6,  7,  8,  9, 10, 11, 12, 13, 14, 15, 16, 17, 18,\n",
       "       19])"
      ]
     },
     "execution_count": 14,
     "metadata": {},
     "output_type": "execute_result"
    }
   ],
   "source": [
    "data_with_range = numpy.arange(2,20)\n",
    "data_with_range"
   ]
  },
  {
   "cell_type": "code",
   "execution_count": 15,
   "id": "a8897506-2ef4-432b-aba7-5f37573af2c7",
   "metadata": {},
   "outputs": [
    {
     "data": {
      "text/plain": [
       "array([ 0,  2,  4,  6,  8, 10, 12, 14, 16, 18])"
      ]
     },
     "execution_count": 15,
     "metadata": {},
     "output_type": "execute_result"
    }
   ],
   "source": [
    "data_with_range = numpy.arange(0,20,2)\n",
    "data_with_range"
   ]
  },
  {
   "cell_type": "code",
   "execution_count": 16,
   "id": "78cb2ce3-699d-4eea-9047-c358a66506f3",
   "metadata": {},
   "outputs": [
    {
     "data": {
      "text/plain": [
       "array([0.  , 0.25, 0.5 , 0.75, 1.  ])"
      ]
     },
     "execution_count": 16,
     "metadata": {},
     "output_type": "execute_result"
    }
   ],
   "source": [
    "data_with_line_space = numpy.linspace(0,1,5)\n",
    "data_with_line_space"
   ]
  },
  {
   "cell_type": "code",
   "execution_count": 17,
   "id": "eb5e4375-7346-4740-b813-ff2f1bc77476",
   "metadata": {},
   "outputs": [
    {
     "data": {
      "text/plain": [
       "array([ 0. ,  2.5,  5. ,  7.5, 10. ])"
      ]
     },
     "execution_count": 17,
     "metadata": {},
     "output_type": "execute_result"
    }
   ],
   "source": [
    "data_with_line_space = numpy.linspace(0,10,5)\n",
    "data_with_line_space"
   ]
  },
  {
   "cell_type": "code",
   "execution_count": 22,
   "id": "8f5ea102-7765-431a-a2f1-84c8ca7882db",
   "metadata": {},
   "outputs": [
    {
     "data": {
      "text/plain": [
       "array([[1., 1., 1.],\n",
       "       [1., 1., 1.]])"
      ]
     },
     "execution_count": 22,
     "metadata": {},
     "output_type": "execute_result"
    }
   ],
   "source": [
    "empty_array = numpy.empty((2,3))\n",
    "empty_array"
   ]
  },
  {
   "cell_type": "code",
   "execution_count": 23,
   "id": "4a165c79-5fc4-479d-b1c5-f7d615ae7d23",
   "metadata": {},
   "outputs": [
    {
     "data": {
      "text/plain": [
       "array([[0., 0., 0.],\n",
       "       [0., 0., 0.]])"
      ]
     },
     "execution_count": 23,
     "metadata": {},
     "output_type": "execute_result"
    }
   ],
   "source": [
    "array_with_zeros = numpy.zeros((2,3))\n",
    "array_with_zeros"
   ]
  },
  {
   "cell_type": "code",
   "execution_count": 24,
   "id": "c770d473-067d-47ce-a121-fe4b938de995",
   "metadata": {},
   "outputs": [
    {
     "data": {
      "text/plain": [
       "array([[0., 0., 0.],\n",
       "       [0., 0., 0.]])"
      ]
     },
     "execution_count": 24,
     "metadata": {},
     "output_type": "execute_result"
    }
   ],
   "source": [
    "empty_array = numpy.empty((2,3))\n",
    "empty_array"
   ]
  },
  {
   "cell_type": "code",
   "execution_count": 25,
   "id": "2b608a7b-5f05-4ce5-8684-d8f73437c9ea",
   "metadata": {},
   "outputs": [
    {
     "data": {
      "text/plain": [
       "array([[[ 2,  4,  6,  8],\n",
       "        [ 3,  6,  9, 12]],\n",
       "\n",
       "       [[ 1,  2,  3,  4],\n",
       "        [ 2,  4,  6,  8]]])"
      ]
     },
     "execution_count": 25,
     "metadata": {},
     "output_type": "execute_result"
    }
   ],
   "source": [
    "multi_dimension_array = numpy.array([[[2,4,6,8],[3,6,9,12]],[[1,2,3,4],[2,4,6,8]]])\n",
    "multi_dimension_array"
   ]
  },
  {
   "cell_type": "code",
   "execution_count": 26,
   "id": "d3e2e7bb-ca8d-4176-95d0-dc1a0608429c",
   "metadata": {},
   "outputs": [
    {
     "data": {
      "text/plain": [
       "array([[0., 0., 0.],\n",
       "       [0., 0., 0.]])"
      ]
     },
     "execution_count": 26,
     "metadata": {},
     "output_type": "execute_result"
    }
   ],
   "source": [
    "empty_array = numpy.empty((2,3))\n",
    "empty_array"
   ]
  },
  {
   "cell_type": "code",
   "execution_count": 30,
   "id": "87acdc48-1edd-4ee7-8dc2-f86aaa865ebf",
   "metadata": {},
   "outputs": [
    {
     "data": {
      "text/plain": [
       "array([[ 2,  4,  6,  8],\n",
       "       [ 3,  6,  9, 12]])"
      ]
     },
     "execution_count": 30,
     "metadata": {},
     "output_type": "execute_result"
    }
   ],
   "source": [
    "my_two_dimension_array = numpy.array([[2,4,6,8],[3,6,9,12]])\n",
    "my_two_dimension_array"
   ]
  },
  {
   "cell_type": "code",
   "execution_count": 31,
   "id": "8e77a3a2-8150-4710-8306-72bf3064ae57",
   "metadata": {},
   "outputs": [
    {
     "data": {
      "text/plain": [
       "array([ 3,  6,  9, 12])"
      ]
     },
     "execution_count": 31,
     "metadata": {},
     "output_type": "execute_result"
    }
   ],
   "source": [
    "my_two_dimension_array[1]"
   ]
  },
  {
   "cell_type": "code",
   "execution_count": 32,
   "id": "aa9968e9-baf6-4529-a206-a2e4ed33b6aa",
   "metadata": {},
   "outputs": [
    {
     "data": {
      "text/plain": [
       "array([[2, 4, 6, 8]])"
      ]
     },
     "execution_count": 32,
     "metadata": {},
     "output_type": "execute_result"
    }
   ],
   "source": [
    "my_two_dimension_array[0:1]"
   ]
  },
  {
   "cell_type": "code",
   "execution_count": 34,
   "id": "0fe5a76e-73c6-4e45-8a75-6c54b5745f69",
   "metadata": {},
   "outputs": [
    {
     "data": {
      "text/plain": [
       "array([[2, 4],\n",
       "       [3, 6]])"
      ]
     },
     "execution_count": 34,
     "metadata": {},
     "output_type": "execute_result"
    }
   ],
   "source": [
    "my_two_dimension_array[:,0:2]"
   ]
  },
  {
   "cell_type": "code",
   "execution_count": 35,
   "id": "986d62e6-42df-4be7-8ad0-4a26d2e76ec5",
   "metadata": {},
   "outputs": [
    {
     "data": {
      "text/plain": [
       "array([[ 2,  4,  6,  8],\n",
       "       [ 3,  6,  9, 12]])"
      ]
     },
     "execution_count": 35,
     "metadata": {},
     "output_type": "execute_result"
    }
   ],
   "source": [
    "my_new_array = my_two_dimension_array\n",
    "my_new_array"
   ]
  },
  {
   "cell_type": "code",
   "execution_count": 36,
   "id": "48c2d090-912b-4186-b724-39120bcc0637",
   "metadata": {},
   "outputs": [
    {
     "data": {
      "text/plain": [
       "array([[100, 100, 100, 100],\n",
       "       [  3,   6,   9,  12]])"
      ]
     },
     "execution_count": 36,
     "metadata": {},
     "output_type": "execute_result"
    }
   ],
   "source": [
    "my_new_array[0] = 100\n",
    "my_new_array"
   ]
  },
  {
   "cell_type": "code",
   "execution_count": 37,
   "id": "b09c6506-4999-4806-b874-71c06e08850e",
   "metadata": {},
   "outputs": [
    {
     "data": {
      "text/plain": [
       "array([[100, 100, 100, 100],\n",
       "       [  3,   6,   9,  12]])"
      ]
     },
     "execution_count": 37,
     "metadata": {},
     "output_type": "execute_result"
    }
   ],
   "source": [
    "my_two_dimension_array"
   ]
  },
  {
   "cell_type": "code",
   "execution_count": 38,
   "id": "a73fd8e0-cae4-49ee-8855-47665fbe357c",
   "metadata": {},
   "outputs": [
    {
     "data": {
      "text/plain": [
       "array([[100, 100, 100, 100],\n",
       "       [  3,   6,   9,  12]])"
      ]
     },
     "execution_count": 38,
     "metadata": {},
     "output_type": "execute_result"
    }
   ],
   "source": [
    "deep_copy_arrary = my_two_dimension_array.copy()\n",
    "deep_copy_arrary"
   ]
  },
  {
   "cell_type": "code",
   "execution_count": 39,
   "id": "a16d2a73-4568-420a-afec-d87ef47d7478",
   "metadata": {},
   "outputs": [
    {
     "data": {
      "text/plain": [
       "array([[100, 100, 100, 100],\n",
       "       [  3,   6,   9,  12]])"
      ]
     },
     "execution_count": 39,
     "metadata": {},
     "output_type": "execute_result"
    }
   ],
   "source": [
    "my_two_dimension_array"
   ]
  },
  {
   "cell_type": "code",
   "execution_count": 40,
   "id": "090bb608-75cd-4b58-b76f-f6f21270782e",
   "metadata": {},
   "outputs": [
    {
     "data": {
      "text/plain": [
       "array([[ 7,  7,  7,  7],\n",
       "       [ 3,  6,  9, 12]])"
      ]
     },
     "execution_count": 40,
     "metadata": {},
     "output_type": "execute_result"
    }
   ],
   "source": [
    "deep_copy_arrary[0] = 7\n",
    "deep_copy_arrary"
   ]
  },
  {
   "cell_type": "code",
   "execution_count": 41,
   "id": "2a2f5dca-99cf-46b2-9287-022de8abec97",
   "metadata": {},
   "outputs": [
    {
     "data": {
      "text/plain": [
       "array([[100, 100, 100, 100],\n",
       "       [  3,   6,   9,  12]])"
      ]
     },
     "execution_count": 41,
     "metadata": {},
     "output_type": "execute_result"
    }
   ],
   "source": [
    "my_two_dimension_array"
   ]
  },
  {
   "cell_type": "code",
   "execution_count": 42,
   "id": "08a58857-0e6a-4738-a5c5-5c1871edf28f",
   "metadata": {},
   "outputs": [
    {
     "data": {
      "text/plain": [
       "array([ 5, 10, 15])"
      ]
     },
     "execution_count": 42,
     "metadata": {},
     "output_type": "execute_result"
    }
   ],
   "source": [
    "a1 = numpy.array([2,4,6])\n",
    "a2 = numpy.array([3,6,9])\n",
    "\n",
    "addition = a1 + a2\n",
    "addition"
   ]
  },
  {
   "cell_type": "code",
   "execution_count": 43,
   "id": "b6c5bd89-b728-4d93-9136-c707c04ac249",
   "metadata": {},
   "outputs": [
    {
     "data": {
      "text/plain": [
       "array([-1, -2, -3])"
      ]
     },
     "execution_count": 43,
     "metadata": {},
     "output_type": "execute_result"
    }
   ],
   "source": [
    "a1 = numpy.array([2,4,6])\n",
    "a2 = numpy.array([3,6,9])\n",
    "\n",
    "subtraction = a1 - a2\n",
    "subtraction"
   ]
  },
  {
   "cell_type": "code",
   "execution_count": 44,
   "id": "f267ce74-e3d2-4287-87bc-79239e845ae3",
   "metadata": {},
   "outputs": [
    {
     "data": {
      "text/plain": [
       "array([ 6, 24, 54])"
      ]
     },
     "execution_count": 44,
     "metadata": {},
     "output_type": "execute_result"
    }
   ],
   "source": [
    "a1 = numpy.array([2,4,6])\n",
    "a2 = numpy.array([3,6,9])\n",
    "\n",
    "multiplication = a1 * a2\n",
    "multiplication"
   ]
  },
  {
   "cell_type": "code",
   "execution_count": 45,
   "id": "24d38c6b-e10d-44cd-ac52-810715d790af",
   "metadata": {},
   "outputs": [
    {
     "ename": "ValueError",
     "evalue": "operands could not be broadcast together with shapes (2,) (3,) ",
     "output_type": "error",
     "traceback": [
      "\u001b[1;31m---------------------------------------------------------------------------\u001b[0m",
      "\u001b[1;31mValueError\u001b[0m                                Traceback (most recent call last)",
      "Cell \u001b[1;32mIn[45], line 4\u001b[0m\n\u001b[0;32m      1\u001b[0m a1 \u001b[38;5;241m=\u001b[39m numpy\u001b[38;5;241m.\u001b[39marray([\u001b[38;5;241m2\u001b[39m,\u001b[38;5;241m4\u001b[39m])\n\u001b[0;32m      2\u001b[0m a2 \u001b[38;5;241m=\u001b[39m numpy\u001b[38;5;241m.\u001b[39marray([\u001b[38;5;241m3\u001b[39m,\u001b[38;5;241m6\u001b[39m,\u001b[38;5;241m9\u001b[39m])\n\u001b[1;32m----> 4\u001b[0m addition \u001b[38;5;241m=\u001b[39m \u001b[43ma1\u001b[49m\u001b[43m \u001b[49m\u001b[38;5;241;43m+\u001b[39;49m\u001b[43m \u001b[49m\u001b[43ma2\u001b[49m\n\u001b[0;32m      5\u001b[0m addition\n",
      "\u001b[1;31mValueError\u001b[0m: operands could not be broadcast together with shapes (2,) (3,) "
     ]
    }
   ],
   "source": [
    "a1 = numpy.array([2,4])\n",
    "a2 = numpy.array([3,6,9])\n",
    "\n",
    "addition = a1 + a2\n",
    "addition"
   ]
  },
  {
   "cell_type": "code",
   "execution_count": 49,
   "id": "ef2f9a91-662b-47f6-9903-5eb2ce2a3945",
   "metadata": {},
   "outputs": [
    {
     "data": {
      "text/plain": [
       "3"
      ]
     },
     "execution_count": 49,
     "metadata": {},
     "output_type": "execute_result"
    }
   ],
   "source": [
    "a1 = numpy.array([2,4],dtype=numpy.float64)\n",
    "a2 = numpy.array([3,6,9],dtype = numpy.float64)\n",
    "\n",
    "max_len = max(len(a1),len(a2))\n",
    "max_len"
   ]
  },
  {
   "cell_type": "code",
   "execution_count": 50,
   "id": "6034b0a3-58d7-42b4-b734-4beedd3a8693",
   "metadata": {},
   "outputs": [
    {
     "data": {
      "text/plain": [
       "array([ 5., 10., nan])"
      ]
     },
     "execution_count": 50,
     "metadata": {},
     "output_type": "execute_result"
    }
   ],
   "source": [
    "a1_padding = numpy.pad(a1,(0,max_len - len(a1)),constant_values = numpy.nan)\n",
    "a2_padding = numpy.pad(a2,(0,max_len - len(a2)),constant_values = numpy.nan)\n",
    "\n",
    "added_value = a1_padding + a2_padding\n",
    "added_value"
   ]
  },
  {
   "cell_type": "code",
   "execution_count": 52,
   "id": "f989c3ec-3f08-4dac-94ef-44b871dbc10e",
   "metadata": {},
   "outputs": [
    {
     "data": {
      "text/plain": [
       "array([ 2.,  4., nan])"
      ]
     },
     "execution_count": 52,
     "metadata": {},
     "output_type": "execute_result"
    }
   ],
   "source": [
    "a1_padding"
   ]
  },
  {
   "cell_type": "code",
   "execution_count": 53,
   "id": "f805bfd8-1233-4885-af90-4212f853f1eb",
   "metadata": {},
   "outputs": [
    {
     "data": {
      "text/plain": [
       "array([3., 6., 9.])"
      ]
     },
     "execution_count": 53,
     "metadata": {},
     "output_type": "execute_result"
    }
   ],
   "source": [
    "a2_padding"
   ]
  },
  {
   "cell_type": "code",
   "execution_count": 55,
   "id": "0cf1f64c-f518-4207-a437-b24c3c319089",
   "metadata": {},
   "outputs": [
    {
     "data": {
      "text/plain": [
       "array([ 4,  8, 12])"
      ]
     },
     "execution_count": 55,
     "metadata": {},
     "output_type": "execute_result"
    }
   ],
   "source": [
    "my_array = numpy.array([2,4,6])\n",
    "my_scaler_value = 2\n",
    "output = my_array * my_scaler_value\n",
    "output"
   ]
  },
  {
   "cell_type": "code",
   "execution_count": 56,
   "id": "c9d14529-bf63-4cac-a8cc-782de670ea1c",
   "metadata": {},
   "outputs": [
    {
     "data": {
      "text/plain": [
       "2"
      ]
     },
     "execution_count": 56,
     "metadata": {},
     "output_type": "execute_result"
    }
   ],
   "source": [
    "my_array = numpy.array([2,4,6])\n",
    "my_array2 = numpy.array([[1,2,3],[10,20,30]])\n",
    "my_array2.ndim"
   ]
  },
  {
   "cell_type": "code",
   "execution_count": 57,
   "id": "db0de3bb-f449-4cd8-9c13-f11bb57f603f",
   "metadata": {},
   "outputs": [
    {
     "data": {
      "text/plain": [
       "array([[ 3,  6,  9],\n",
       "       [12, 24, 36]])"
      ]
     },
     "execution_count": 57,
     "metadata": {},
     "output_type": "execute_result"
    }
   ],
   "source": [
    "output = my_array + my_array2\n",
    "output"
   ]
  },
  {
   "cell_type": "code",
   "execution_count": 58,
   "id": "c32c559b-0276-43a0-a236-d9087b042114",
   "metadata": {},
   "outputs": [
    {
     "data": {
      "text/plain": [
       "array([ 7,  9, 11])"
      ]
     },
     "execution_count": 58,
     "metadata": {},
     "output_type": "execute_result"
    }
   ],
   "source": [
    "my_array = numpy.array([2,4,6])\n",
    "new = numpy.add(my_array,5)\n",
    "new"
   ]
  },
  {
   "cell_type": "code",
   "execution_count": 59,
   "id": "d5897fc1-a1a8-4d87-9fa5-b8f9a09e50f2",
   "metadata": {},
   "outputs": [
    {
     "data": {
      "text/plain": [
       "array([1.41421356, 2.        , 2.44948974])"
      ]
     },
     "execution_count": 59,
     "metadata": {},
     "output_type": "execute_result"
    }
   ],
   "source": [
    "sq_root = numpy.sqrt(my_array)\n",
    "sq_root"
   ]
  },
  {
   "cell_type": "code",
   "execution_count": 60,
   "id": "ac99a906-a1ca-47de-bd43-c3e07f456abe",
   "metadata": {},
   "outputs": [
    {
     "data": {
      "text/plain": [
       "array([  7.3890561 ,  54.59815003, 403.42879349])"
      ]
     },
     "execution_count": 60,
     "metadata": {},
     "output_type": "execute_result"
    }
   ],
   "source": [
    "exp_value = numpy.exp(my_array)\n",
    "exp_value"
   ]
  },
  {
   "cell_type": "code",
   "execution_count": 62,
   "id": "12eebbb3-c2d6-454b-bd91-0d3d592433b4",
   "metadata": {},
   "outputs": [
    {
     "data": {
      "text/plain": [
       "array([5, 7, 9])"
      ]
     },
     "execution_count": 62,
     "metadata": {},
     "output_type": "execute_result"
    }
   ],
   "source": [
    "a = numpy.array([1, 2, 3])\n",
    "b = numpy.array([4, 5, 6])\n",
    "output = a + b\n",
    "output"
   ]
  },
  {
   "cell_type": "code",
   "execution_count": 63,
   "id": "4facc8ef-07f0-420a-b056-42a267a9676a",
   "metadata": {},
   "outputs": [
    {
     "data": {
      "text/plain": [
       "array([5, 7, 9])"
      ]
     },
     "execution_count": 63,
     "metadata": {},
     "output_type": "execute_result"
    }
   ],
   "source": [
    "output = numpy.add(a,b)\n",
    "output"
   ]
  },
  {
   "cell_type": "code",
   "execution_count": 64,
   "id": "9f29b186-da8b-4999-a88c-4dc63d44a565",
   "metadata": {},
   "outputs": [
    {
     "data": {
      "text/plain": [
       "32"
      ]
     },
     "execution_count": 64,
     "metadata": {},
     "output_type": "execute_result"
    }
   ],
   "source": [
    "output = numpy.dot(a,b)\n",
    "output"
   ]
  },
  {
   "cell_type": "code",
   "execution_count": 65,
   "id": "703f0bfd-1a50-4716-95e8-2d3a36f56b3b",
   "metadata": {},
   "outputs": [
    {
     "data": {
      "text/plain": [
       "array([ 4, 10, 18])"
      ]
     },
     "execution_count": 65,
     "metadata": {},
     "output_type": "execute_result"
    }
   ],
   "source": [
    "output = numpy.multiply(a,b)\n",
    "output"
   ]
  },
  {
   "cell_type": "code",
   "execution_count": 66,
   "id": "a653297e-2ef1-44b4-a54d-2fcfa8c31a29",
   "metadata": {},
   "outputs": [
    {
     "data": {
      "text/plain": [
       "32"
      ]
     },
     "execution_count": 66,
     "metadata": {},
     "output_type": "execute_result"
    }
   ],
   "source": [
    "output = sum(output)\n",
    "output"
   ]
  },
  {
   "cell_type": "code",
   "execution_count": 68,
   "id": "8dcffcf2-fd53-44ee-82f1-ec07038a64e6",
   "metadata": {},
   "outputs": [
    {
     "data": {
      "text/plain": [
       "32"
      ]
     },
     "execution_count": 68,
     "metadata": {},
     "output_type": "execute_result"
    }
   ],
   "source": [
    "a = numpy.array([1, 2, 3])\n",
    "b = numpy.array([4, 5, 6])\n",
    "final = numpy.matmul(a,b)\n",
    "final"
   ]
  },
  {
   "cell_type": "code",
   "execution_count": 71,
   "id": "04869ade-c5e4-4681-a226-e25caa2f63ac",
   "metadata": {},
   "outputs": [
    {
     "data": {
      "text/plain": [
       "array([[ 12,  16],\n",
       "       [ 95, 130]])"
      ]
     },
     "execution_count": 71,
     "metadata": {},
     "output_type": "execute_result"
    }
   ],
   "source": [
    "a = numpy.array([[1,2],[10,15]])\n",
    "b = numpy.array([[2,4],[5, 6]])\n",
    "final = numpy.matmul(a,b)\n",
    "final"
   ]
  },
  {
   "cell_type": "code",
   "execution_count": 73,
   "id": "2ffa5fb4-038b-417b-809b-d6703cffb2f4",
   "metadata": {},
   "outputs": [
    {
     "data": {
      "text/plain": [
       "array([[1, 3],\n",
       "       [2, 4]])"
      ]
     },
     "execution_count": 73,
     "metadata": {},
     "output_type": "execute_result"
    }
   ],
   "source": [
    "a = numpy.array([[1, 2], [3, 4]])\n",
    "transpose = numpy.transpose(a)\n",
    "transpose"
   ]
  },
  {
   "cell_type": "code",
   "execution_count": 76,
   "id": "8ecaf7bd-9242-47e1-ab26-8f3bcde112ba",
   "metadata": {},
   "outputs": [
    {
     "data": {
      "text/plain": [
       "array([[ 2,  4],\n",
       "       [ 6,  8],\n",
       "       [10, 12]])"
      ]
     },
     "execution_count": 76,
     "metadata": {},
     "output_type": "execute_result"
    }
   ],
   "source": [
    "my_data = numpy.array([2,4,6,8,10,12])\n",
    "ouput = my_data.reshape((3,2))\n",
    "ouput"
   ]
  },
  {
   "cell_type": "code",
   "execution_count": 79,
   "id": "4cfd1be4-3e15-4c3f-892f-07f1e45339c9",
   "metadata": {},
   "outputs": [
    {
     "data": {
      "text/plain": [
       "array([[ 2,  4,  6],\n",
       "       [ 8, 10, 12],\n",
       "       [14, 16,  0]])"
      ]
     },
     "execution_count": 79,
     "metadata": {},
     "output_type": "execute_result"
    }
   ],
   "source": [
    "my_data = numpy.array([2,4,6,8,10,12,14,16])\n",
    "my_data.resize((3,3))\n",
    "my_data"
   ]
  },
  {
   "cell_type": "code",
   "execution_count": 80,
   "id": "af860138-c4bd-4668-b164-dbceac8e4554",
   "metadata": {},
   "outputs": [
    {
     "data": {
      "text/plain": [
       "array([1, 2, 3, 4, 5, 6])"
      ]
     },
     "execution_count": 80,
     "metadata": {},
     "output_type": "execute_result"
    }
   ],
   "source": [
    "# Flattening a multi-dimensional array\n",
    "arr_2d = numpy.array([[1, 2], [3, 4], [5, 6]])\n",
    "flattened = arr_2d.flatten()\n",
    "flattened\n",
    "\n",
    "\n"
   ]
  },
  {
   "cell_type": "code",
   "execution_count": 81,
   "id": "9da43014-007e-4f47-a6e7-6c7adf4a21ac",
   "metadata": {},
   "outputs": [
    {
     "data": {
      "text/plain": [
       "array([1, 2, 3, 4, 5, 6])"
      ]
     },
     "execution_count": 81,
     "metadata": {},
     "output_type": "execute_result"
    }
   ],
   "source": [
    "\n",
    "# Raveling a multi-dimensional array\n",
    "raveled = arr_2d.ravel()\n",
    "raveled"
   ]
  },
  {
   "cell_type": "code",
   "execution_count": 83,
   "id": "3cfc968d-be9c-4ad3-8e56-c5b48b8e60a8",
   "metadata": {},
   "outputs": [
    {
     "data": {
      "text/plain": [
       "array([[1, 3, 5],\n",
       "       [2, 4, 6]])"
      ]
     },
     "execution_count": 83,
     "metadata": {},
     "output_type": "execute_result"
    }
   ],
   "source": [
    "arr_2d = numpy.array([[1, 2], [3, 4], [5, 6]])\n",
    "transpose_arr = arr_2d.T\n",
    "transpose_arr"
   ]
  },
  {
   "cell_type": "code",
   "execution_count": 84,
   "id": "4a46d82a-b7b7-4e0f-93fb-79ce56f464e3",
   "metadata": {},
   "outputs": [
    {
     "data": {
      "text/plain": [
       "array([[1, 2],\n",
       "       [3, 4]])"
      ]
     },
     "execution_count": 84,
     "metadata": {},
     "output_type": "execute_result"
    }
   ],
   "source": [
    "# Vertical stacking\n",
    "import numpy as np\n",
    "\n",
    "arr1 = np.array([1, 2])\n",
    "arr2 = np.array([3, 4])\n",
    "stacked_v = np.vstack((arr1, arr2))\n",
    "stacked_v\n"
   ]
  },
  {
   "cell_type": "code",
   "execution_count": 85,
   "id": "5145f91b-0425-411f-b81d-77ea0530acba",
   "metadata": {},
   "outputs": [
    {
     "data": {
      "text/plain": [
       "array([1, 2, 3, 4])"
      ]
     },
     "execution_count": 85,
     "metadata": {},
     "output_type": "execute_result"
    }
   ],
   "source": [
    "import numpy as np\n",
    "\n",
    "arr1 = np.array([1, 2])\n",
    "arr2 = np.array([3, 4])\n",
    "stacked_h = np.hstack((arr1, arr2))\n",
    "stacked_h"
   ]
  },
  {
   "cell_type": "code",
   "execution_count": 86,
   "id": "480433e8-66fa-42ab-a575-2d0bb610fa57",
   "metadata": {},
   "outputs": [
    {
     "data": {
      "text/plain": [
       "array([[[1, 3],\n",
       "        [2, 4]]])"
      ]
     },
     "execution_count": 86,
     "metadata": {},
     "output_type": "execute_result"
    }
   ],
   "source": [
    "import numpy as np\n",
    "\n",
    "arr1 = np.array([1, 2])\n",
    "arr2 = np.array([3, 4])\n",
    "stacked_d = np.dstack((arr1, arr2))\n",
    "stacked_d"
   ]
  },
  {
   "cell_type": "code",
   "execution_count": 87,
   "id": "aec70199-1566-41ef-ad4c-99e6ecbb0a24",
   "metadata": {},
   "outputs": [
    {
     "data": {
      "text/plain": [
       "[array([1, 2]), array([3, 4]), array([5, 6])]"
      ]
     },
     "execution_count": 87,
     "metadata": {},
     "output_type": "execute_result"
    }
   ],
   "source": [
    "# Split an array into 3 parts\n",
    "arr = np.array([1, 2, 3, 4, 5, 6])\n",
    "split_arr = np.split(arr, 3)\n",
    "split_arr"
   ]
  },
  {
   "cell_type": "code",
   "execution_count": 92,
   "id": "e7fe9937-6fa8-436f-b7e9-23d7ab39d333",
   "metadata": {},
   "outputs": [
    {
     "data": {
      "text/plain": [
       "[array([[1],\n",
       "        [4]]),\n",
       " array([[2],\n",
       "        [5]]),\n",
       " array([[3],\n",
       "        [6]])]"
      ]
     },
     "execution_count": 92,
     "metadata": {},
     "output_type": "execute_result"
    }
   ],
   "source": [
    "arr = np.array([[1, 2, 3],[ 4, 5, 6]])\n",
    "split_arr = np.hsplit(arr, 3)\n",
    "split_arr"
   ]
  },
  {
   "cell_type": "code",
   "execution_count": 89,
   "id": "e8713f14-1ef3-494f-83c9-7b64fef2f9ba",
   "metadata": {},
   "outputs": [
    {
     "ename": "ValueError",
     "evalue": "vsplit only works on arrays of 2 or more dimensions",
     "output_type": "error",
     "traceback": [
      "\u001b[1;31m---------------------------------------------------------------------------\u001b[0m",
      "\u001b[1;31mValueError\u001b[0m                                Traceback (most recent call last)",
      "Cell \u001b[1;32mIn[89], line 2\u001b[0m\n\u001b[0;32m      1\u001b[0m arr \u001b[38;5;241m=\u001b[39m np\u001b[38;5;241m.\u001b[39marray([\u001b[38;5;241m1\u001b[39m, \u001b[38;5;241m2\u001b[39m, \u001b[38;5;241m3\u001b[39m, \u001b[38;5;241m4\u001b[39m, \u001b[38;5;241m5\u001b[39m, \u001b[38;5;241m6\u001b[39m])\n\u001b[1;32m----> 2\u001b[0m split_arr \u001b[38;5;241m=\u001b[39m \u001b[43mnp\u001b[49m\u001b[38;5;241;43m.\u001b[39;49m\u001b[43mvsplit\u001b[49m\u001b[43m(\u001b[49m\u001b[43marr\u001b[49m\u001b[43m,\u001b[49m\u001b[43m \u001b[49m\u001b[38;5;241;43m3\u001b[39;49m\u001b[43m)\u001b[49m\n\u001b[0;32m      3\u001b[0m split_arr\n",
      "File \u001b[1;32m~\\Desktop\\LMES\\DS_ML\\.venv\\Lib\\site-packages\\numpy\\lib\\shape_base.py:988\u001b[0m, in \u001b[0;36mvsplit\u001b[1;34m(ary, indices_or_sections)\u001b[0m\n\u001b[0;32m    945\u001b[0m \u001b[38;5;250m\u001b[39m\u001b[38;5;124;03m\"\"\"\u001b[39;00m\n\u001b[0;32m    946\u001b[0m \u001b[38;5;124;03mSplit an array into multiple sub-arrays vertically (row-wise).\u001b[39;00m\n\u001b[0;32m    947\u001b[0m \n\u001b[1;32m   (...)\u001b[0m\n\u001b[0;32m    985\u001b[0m \n\u001b[0;32m    986\u001b[0m \u001b[38;5;124;03m\"\"\"\u001b[39;00m\n\u001b[0;32m    987\u001b[0m \u001b[38;5;28;01mif\u001b[39;00m _nx\u001b[38;5;241m.\u001b[39mndim(ary) \u001b[38;5;241m<\u001b[39m \u001b[38;5;241m2\u001b[39m:\n\u001b[1;32m--> 988\u001b[0m     \u001b[38;5;28;01mraise\u001b[39;00m \u001b[38;5;167;01mValueError\u001b[39;00m(\u001b[38;5;124m'\u001b[39m\u001b[38;5;124mvsplit only works on arrays of 2 or more dimensions\u001b[39m\u001b[38;5;124m'\u001b[39m)\n\u001b[0;32m    989\u001b[0m \u001b[38;5;28;01mreturn\u001b[39;00m split(ary, indices_or_sections, \u001b[38;5;241m0\u001b[39m)\n",
      "\u001b[1;31mValueError\u001b[0m: vsplit only works on arrays of 2 or more dimensions"
     ]
    }
   ],
   "source": [
    "arr = np.array([1, 2, 3, 4, 5, 6])\n",
    "split_arr = np.vsplit(arr, 3)\n",
    "split_arr"
   ]
  },
  {
   "cell_type": "code",
   "execution_count": null,
   "id": "d4bb55d4-6443-4996-981d-acc6b0083e49",
   "metadata": {},
   "outputs": [],
   "source": []
  }
 ],
 "metadata": {
  "kernelspec": {
   "display_name": "Python 3 (ipykernel)",
   "language": "python",
   "name": "python3"
  },
  "language_info": {
   "codemirror_mode": {
    "name": "ipython",
    "version": 3
   },
   "file_extension": ".py",
   "mimetype": "text/x-python",
   "name": "python",
   "nbconvert_exporter": "python",
   "pygments_lexer": "ipython3",
   "version": "3.12.5"
  }
 },
 "nbformat": 4,
 "nbformat_minor": 5
}
