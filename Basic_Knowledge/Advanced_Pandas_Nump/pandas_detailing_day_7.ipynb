{
 "cells": [
  {
   "cell_type": "code",
   "execution_count": 1,
   "id": "2f90d6f0-e217-463c-95be-f4d391d94e87",
   "metadata": {},
   "outputs": [
    {
     "data": {
      "text/html": [
       "<div>\n",
       "<style scoped>\n",
       "    .dataframe tbody tr th:only-of-type {\n",
       "        vertical-align: middle;\n",
       "    }\n",
       "\n",
       "    .dataframe tbody tr th {\n",
       "        vertical-align: top;\n",
       "    }\n",
       "\n",
       "    .dataframe thead th {\n",
       "        text-align: right;\n",
       "    }\n",
       "</style>\n",
       "<table border=\"1\" class=\"dataframe\">\n",
       "  <thead>\n",
       "    <tr style=\"text-align: right;\">\n",
       "      <th></th>\n",
       "      <th>Unnamed: 0</th>\n",
       "      <th>carat</th>\n",
       "      <th>cut</th>\n",
       "      <th>color</th>\n",
       "      <th>clarity</th>\n",
       "      <th>depth</th>\n",
       "      <th>table</th>\n",
       "      <th>price</th>\n",
       "      <th>x</th>\n",
       "      <th>y</th>\n",
       "      <th>z</th>\n",
       "    </tr>\n",
       "  </thead>\n",
       "  <tbody>\n",
       "    <tr>\n",
       "      <th>0</th>\n",
       "      <td>1</td>\n",
       "      <td>NaN</td>\n",
       "      <td>NaN</td>\n",
       "      <td>E</td>\n",
       "      <td>SI2</td>\n",
       "      <td>61.5</td>\n",
       "      <td>55.0</td>\n",
       "      <td>326.0</td>\n",
       "      <td>3.95</td>\n",
       "      <td>3.98</td>\n",
       "      <td>2.43</td>\n",
       "    </tr>\n",
       "    <tr>\n",
       "      <th>1</th>\n",
       "      <td>2</td>\n",
       "      <td>0.21</td>\n",
       "      <td>NaN</td>\n",
       "      <td>E</td>\n",
       "      <td>SI1</td>\n",
       "      <td>59.8</td>\n",
       "      <td>61.0</td>\n",
       "      <td>326.0</td>\n",
       "      <td>3.89</td>\n",
       "      <td>NaN</td>\n",
       "      <td>NaN</td>\n",
       "    </tr>\n",
       "    <tr>\n",
       "      <th>2</th>\n",
       "      <td>3</td>\n",
       "      <td>0.23</td>\n",
       "      <td>Good</td>\n",
       "      <td>E</td>\n",
       "      <td>VS1</td>\n",
       "      <td>56.9</td>\n",
       "      <td>65.0</td>\n",
       "      <td>327.0</td>\n",
       "      <td>4.05</td>\n",
       "      <td>4.07</td>\n",
       "      <td>2.31</td>\n",
       "    </tr>\n",
       "    <tr>\n",
       "      <th>3</th>\n",
       "      <td>4</td>\n",
       "      <td>0.29</td>\n",
       "      <td>Premium</td>\n",
       "      <td>I</td>\n",
       "      <td>NaN</td>\n",
       "      <td>62.4</td>\n",
       "      <td>58.0</td>\n",
       "      <td>NaN</td>\n",
       "      <td>4.20</td>\n",
       "      <td>NaN</td>\n",
       "      <td>2.63</td>\n",
       "    </tr>\n",
       "    <tr>\n",
       "      <th>4</th>\n",
       "      <td>5</td>\n",
       "      <td>0.31</td>\n",
       "      <td>Good</td>\n",
       "      <td>J</td>\n",
       "      <td>SI2</td>\n",
       "      <td>63.3</td>\n",
       "      <td>58.0</td>\n",
       "      <td>335.0</td>\n",
       "      <td>4.34</td>\n",
       "      <td>4.35</td>\n",
       "      <td>2.75</td>\n",
       "    </tr>\n",
       "  </tbody>\n",
       "</table>\n",
       "</div>"
      ],
      "text/plain": [
       "   Unnamed: 0  carat      cut color clarity  depth  table  price     x     y  \\\n",
       "0           1    NaN      NaN     E     SI2   61.5   55.0  326.0  3.95  3.98   \n",
       "1           2   0.21      NaN     E     SI1   59.8   61.0  326.0  3.89   NaN   \n",
       "2           3   0.23     Good     E     VS1   56.9   65.0  327.0  4.05  4.07   \n",
       "3           4   0.29  Premium     I     NaN   62.4   58.0    NaN  4.20   NaN   \n",
       "4           5   0.31     Good     J     SI2   63.3   58.0  335.0  4.34  4.35   \n",
       "\n",
       "      z  \n",
       "0  2.43  \n",
       "1   NaN  \n",
       "2  2.31  \n",
       "3  2.63  \n",
       "4  2.75  "
      ]
     },
     "execution_count": 1,
     "metadata": {},
     "output_type": "execute_result"
    }
   ],
   "source": [
    "import pandas as pd\n",
    "\n",
    "df = pd.read_csv(\"diamonds.csv\")\n",
    "df.head()"
   ]
  },
  {
   "cell_type": "code",
   "execution_count": 2,
   "id": "097b7485-08d2-4d72-bca1-d98ac0f31213",
   "metadata": {},
   "outputs": [
    {
     "data": {
      "text/html": [
       "<div>\n",
       "<style scoped>\n",
       "    .dataframe tbody tr th:only-of-type {\n",
       "        vertical-align: middle;\n",
       "    }\n",
       "\n",
       "    .dataframe tbody tr th {\n",
       "        vertical-align: top;\n",
       "    }\n",
       "\n",
       "    .dataframe thead th {\n",
       "        text-align: right;\n",
       "    }\n",
       "</style>\n",
       "<table border=\"1\" class=\"dataframe\">\n",
       "  <thead>\n",
       "    <tr style=\"text-align: right;\">\n",
       "      <th>color</th>\n",
       "      <th>D</th>\n",
       "      <th>E</th>\n",
       "      <th>F</th>\n",
       "      <th>G</th>\n",
       "      <th>H</th>\n",
       "      <th>I</th>\n",
       "      <th>J</th>\n",
       "    </tr>\n",
       "    <tr>\n",
       "      <th>cut</th>\n",
       "      <th></th>\n",
       "      <th></th>\n",
       "      <th></th>\n",
       "      <th></th>\n",
       "      <th></th>\n",
       "      <th></th>\n",
       "      <th></th>\n",
       "    </tr>\n",
       "  </thead>\n",
       "  <tbody>\n",
       "    <tr>\n",
       "      <th>Fair</th>\n",
       "      <td>4291.061350</td>\n",
       "      <td>3682.312500</td>\n",
       "      <td>3827.003205</td>\n",
       "      <td>4239.254777</td>\n",
       "      <td>5135.683168</td>\n",
       "      <td>4685.445714</td>\n",
       "      <td>4975.655462</td>\n",
       "    </tr>\n",
       "    <tr>\n",
       "      <th>Good</th>\n",
       "      <td>3405.382175</td>\n",
       "      <td>3423.644159</td>\n",
       "      <td>3495.750275</td>\n",
       "      <td>4123.482204</td>\n",
       "      <td>4276.254986</td>\n",
       "      <td>5078.532567</td>\n",
       "      <td>4574.172638</td>\n",
       "    </tr>\n",
       "    <tr>\n",
       "      <th>Ideal</th>\n",
       "      <td>2629.094566</td>\n",
       "      <td>2598.132240</td>\n",
       "      <td>3374.939362</td>\n",
       "      <td>3720.706388</td>\n",
       "      <td>3889.334831</td>\n",
       "      <td>4451.970377</td>\n",
       "      <td>4918.186384</td>\n",
       "    </tr>\n",
       "    <tr>\n",
       "      <th>Premium</th>\n",
       "      <td>3631.292576</td>\n",
       "      <td>3540.289812</td>\n",
       "      <td>4324.890176</td>\n",
       "      <td>4500.742134</td>\n",
       "      <td>5216.706780</td>\n",
       "      <td>5950.113525</td>\n",
       "      <td>6294.591584</td>\n",
       "    </tr>\n",
       "    <tr>\n",
       "      <th>Very Good</th>\n",
       "      <td>3470.467284</td>\n",
       "      <td>3214.652083</td>\n",
       "      <td>3778.820240</td>\n",
       "      <td>3872.753806</td>\n",
       "      <td>4535.390351</td>\n",
       "      <td>5255.879568</td>\n",
       "      <td>5103.513274</td>\n",
       "    </tr>\n",
       "  </tbody>\n",
       "</table>\n",
       "</div>"
      ],
      "text/plain": [
       "color                D            E            F            G            H  \\\n",
       "cut                                                                          \n",
       "Fair       4291.061350  3682.312500  3827.003205  4239.254777  5135.683168   \n",
       "Good       3405.382175  3423.644159  3495.750275  4123.482204  4276.254986   \n",
       "Ideal      2629.094566  2598.132240  3374.939362  3720.706388  3889.334831   \n",
       "Premium    3631.292576  3540.289812  4324.890176  4500.742134  5216.706780   \n",
       "Very Good  3470.467284  3214.652083  3778.820240  3872.753806  4535.390351   \n",
       "\n",
       "color                I            J  \n",
       "cut                                  \n",
       "Fair       4685.445714  4975.655462  \n",
       "Good       5078.532567  4574.172638  \n",
       "Ideal      4451.970377  4918.186384  \n",
       "Premium    5950.113525  6294.591584  \n",
       "Very Good  5255.879568  5103.513274  "
      ]
     },
     "execution_count": 2,
     "metadata": {},
     "output_type": "execute_result"
    }
   ],
   "source": [
    "pivoting = df.pivot_table(values = \"price\", index = \"cut\", columns = \"color\", aggfunc = \"mean\")\n",
    "pivoting"
   ]
  },
  {
   "cell_type": "code",
   "execution_count": 3,
   "id": "425e727f-e23f-4bea-b770-dbe7446d6163",
   "metadata": {},
   "outputs": [
    {
     "ename": "ValueError",
     "evalue": "Index contains duplicate entries, cannot reshape",
     "output_type": "error",
     "traceback": [
      "\u001b[1;31m---------------------------------------------------------------------------\u001b[0m",
      "\u001b[1;31mValueError\u001b[0m                                Traceback (most recent call last)",
      "Cell \u001b[1;32mIn[3], line 1\u001b[0m\n\u001b[1;32m----> 1\u001b[0m pivoting_new \u001b[38;5;241m=\u001b[39m \u001b[43mdf\u001b[49m\u001b[38;5;241;43m.\u001b[39;49m\u001b[43mpivot\u001b[49m\u001b[43m(\u001b[49m\u001b[43mvalues\u001b[49m\u001b[43m \u001b[49m\u001b[38;5;241;43m=\u001b[39;49m\u001b[43m \u001b[49m\u001b[38;5;124;43m\"\u001b[39;49m\u001b[38;5;124;43mprice\u001b[39;49m\u001b[38;5;124;43m\"\u001b[39;49m\u001b[43m,\u001b[49m\u001b[43m \u001b[49m\u001b[43mindex\u001b[49m\u001b[43m \u001b[49m\u001b[38;5;241;43m=\u001b[39;49m\u001b[43m \u001b[49m\u001b[38;5;124;43m\"\u001b[39;49m\u001b[38;5;124;43mcut\u001b[39;49m\u001b[38;5;124;43m\"\u001b[39;49m\u001b[43m,\u001b[49m\u001b[43m \u001b[49m\u001b[43mcolumns\u001b[49m\u001b[43m \u001b[49m\u001b[38;5;241;43m=\u001b[39;49m\u001b[43m \u001b[49m\u001b[38;5;124;43m\"\u001b[39;49m\u001b[38;5;124;43mcolor\u001b[39;49m\u001b[38;5;124;43m\"\u001b[39;49m\u001b[43m)\u001b[49m\n\u001b[0;32m      2\u001b[0m pivoting_new\n",
      "File \u001b[1;32m~\\Desktop\\LMES\\DS_ML\\.venv\\Lib\\site-packages\\pandas\\core\\frame.py:9339\u001b[0m, in \u001b[0;36mDataFrame.pivot\u001b[1;34m(self, columns, index, values)\u001b[0m\n\u001b[0;32m   9332\u001b[0m \u001b[38;5;129m@Substitution\u001b[39m(\u001b[38;5;124m\"\u001b[39m\u001b[38;5;124m\"\u001b[39m)\n\u001b[0;32m   9333\u001b[0m \u001b[38;5;129m@Appender\u001b[39m(_shared_docs[\u001b[38;5;124m\"\u001b[39m\u001b[38;5;124mpivot\u001b[39m\u001b[38;5;124m\"\u001b[39m])\n\u001b[0;32m   9334\u001b[0m \u001b[38;5;28;01mdef\u001b[39;00m \u001b[38;5;21mpivot\u001b[39m(\n\u001b[0;32m   9335\u001b[0m     \u001b[38;5;28mself\u001b[39m, \u001b[38;5;241m*\u001b[39m, columns, index\u001b[38;5;241m=\u001b[39mlib\u001b[38;5;241m.\u001b[39mno_default, values\u001b[38;5;241m=\u001b[39mlib\u001b[38;5;241m.\u001b[39mno_default\n\u001b[0;32m   9336\u001b[0m ) \u001b[38;5;241m-\u001b[39m\u001b[38;5;241m>\u001b[39m DataFrame:\n\u001b[0;32m   9337\u001b[0m     \u001b[38;5;28;01mfrom\u001b[39;00m \u001b[38;5;21;01mpandas\u001b[39;00m\u001b[38;5;21;01m.\u001b[39;00m\u001b[38;5;21;01mcore\u001b[39;00m\u001b[38;5;21;01m.\u001b[39;00m\u001b[38;5;21;01mreshape\u001b[39;00m\u001b[38;5;21;01m.\u001b[39;00m\u001b[38;5;21;01mpivot\u001b[39;00m \u001b[38;5;28;01mimport\u001b[39;00m pivot\n\u001b[1;32m-> 9339\u001b[0m     \u001b[38;5;28;01mreturn\u001b[39;00m \u001b[43mpivot\u001b[49m\u001b[43m(\u001b[49m\u001b[38;5;28;43mself\u001b[39;49m\u001b[43m,\u001b[49m\u001b[43m \u001b[49m\u001b[43mindex\u001b[49m\u001b[38;5;241;43m=\u001b[39;49m\u001b[43mindex\u001b[49m\u001b[43m,\u001b[49m\u001b[43m \u001b[49m\u001b[43mcolumns\u001b[49m\u001b[38;5;241;43m=\u001b[39;49m\u001b[43mcolumns\u001b[49m\u001b[43m,\u001b[49m\u001b[43m \u001b[49m\u001b[43mvalues\u001b[49m\u001b[38;5;241;43m=\u001b[39;49m\u001b[43mvalues\u001b[49m\u001b[43m)\u001b[49m\n",
      "File \u001b[1;32m~\\Desktop\\LMES\\DS_ML\\.venv\\Lib\\site-packages\\pandas\\core\\reshape\\pivot.py:570\u001b[0m, in \u001b[0;36mpivot\u001b[1;34m(data, columns, index, values)\u001b[0m\n\u001b[0;32m    566\u001b[0m         indexed \u001b[38;5;241m=\u001b[39m data\u001b[38;5;241m.\u001b[39m_constructor_sliced(data[values]\u001b[38;5;241m.\u001b[39m_values, index\u001b[38;5;241m=\u001b[39mmultiindex)\n\u001b[0;32m    567\u001b[0m \u001b[38;5;66;03m# error: Argument 1 to \"unstack\" of \"DataFrame\" has incompatible type \"Union\u001b[39;00m\n\u001b[0;32m    568\u001b[0m \u001b[38;5;66;03m# [List[Any], ExtensionArray, ndarray[Any, Any], Index, Series]\"; expected\u001b[39;00m\n\u001b[0;32m    569\u001b[0m \u001b[38;5;66;03m# \"Hashable\"\u001b[39;00m\n\u001b[1;32m--> 570\u001b[0m result \u001b[38;5;241m=\u001b[39m \u001b[43mindexed\u001b[49m\u001b[38;5;241;43m.\u001b[39;49m\u001b[43munstack\u001b[49m\u001b[43m(\u001b[49m\u001b[43mcolumns_listlike\u001b[49m\u001b[43m)\u001b[49m  \u001b[38;5;66;03m# type: ignore[arg-type]\u001b[39;00m\n\u001b[0;32m    571\u001b[0m result\u001b[38;5;241m.\u001b[39mindex\u001b[38;5;241m.\u001b[39mnames \u001b[38;5;241m=\u001b[39m [\n\u001b[0;32m    572\u001b[0m     name \u001b[38;5;28;01mif\u001b[39;00m name \u001b[38;5;129;01mis\u001b[39;00m \u001b[38;5;129;01mnot\u001b[39;00m lib\u001b[38;5;241m.\u001b[39mno_default \u001b[38;5;28;01melse\u001b[39;00m \u001b[38;5;28;01mNone\u001b[39;00m \u001b[38;5;28;01mfor\u001b[39;00m name \u001b[38;5;129;01min\u001b[39;00m result\u001b[38;5;241m.\u001b[39mindex\u001b[38;5;241m.\u001b[39mnames\n\u001b[0;32m    573\u001b[0m ]\n\u001b[0;32m    575\u001b[0m \u001b[38;5;28;01mreturn\u001b[39;00m result\n",
      "File \u001b[1;32m~\\Desktop\\LMES\\DS_ML\\.venv\\Lib\\site-packages\\pandas\\core\\series.py:4615\u001b[0m, in \u001b[0;36mSeries.unstack\u001b[1;34m(self, level, fill_value, sort)\u001b[0m\n\u001b[0;32m   4570\u001b[0m \u001b[38;5;250m\u001b[39m\u001b[38;5;124;03m\"\"\"\u001b[39;00m\n\u001b[0;32m   4571\u001b[0m \u001b[38;5;124;03mUnstack, also known as pivot, Series with MultiIndex to produce DataFrame.\u001b[39;00m\n\u001b[0;32m   4572\u001b[0m \n\u001b[1;32m   (...)\u001b[0m\n\u001b[0;32m   4611\u001b[0m \u001b[38;5;124;03mb    2    4\u001b[39;00m\n\u001b[0;32m   4612\u001b[0m \u001b[38;5;124;03m\"\"\"\u001b[39;00m\n\u001b[0;32m   4613\u001b[0m \u001b[38;5;28;01mfrom\u001b[39;00m \u001b[38;5;21;01mpandas\u001b[39;00m\u001b[38;5;21;01m.\u001b[39;00m\u001b[38;5;21;01mcore\u001b[39;00m\u001b[38;5;21;01m.\u001b[39;00m\u001b[38;5;21;01mreshape\u001b[39;00m\u001b[38;5;21;01m.\u001b[39;00m\u001b[38;5;21;01mreshape\u001b[39;00m \u001b[38;5;28;01mimport\u001b[39;00m unstack\n\u001b[1;32m-> 4615\u001b[0m \u001b[38;5;28;01mreturn\u001b[39;00m \u001b[43munstack\u001b[49m\u001b[43m(\u001b[49m\u001b[38;5;28;43mself\u001b[39;49m\u001b[43m,\u001b[49m\u001b[43m \u001b[49m\u001b[43mlevel\u001b[49m\u001b[43m,\u001b[49m\u001b[43m \u001b[49m\u001b[43mfill_value\u001b[49m\u001b[43m,\u001b[49m\u001b[43m \u001b[49m\u001b[43msort\u001b[49m\u001b[43m)\u001b[49m\n",
      "File \u001b[1;32m~\\Desktop\\LMES\\DS_ML\\.venv\\Lib\\site-packages\\pandas\\core\\reshape\\reshape.py:517\u001b[0m, in \u001b[0;36munstack\u001b[1;34m(obj, level, fill_value, sort)\u001b[0m\n\u001b[0;32m    515\u001b[0m \u001b[38;5;28;01mif\u001b[39;00m is_1d_only_ea_dtype(obj\u001b[38;5;241m.\u001b[39mdtype):\n\u001b[0;32m    516\u001b[0m     \u001b[38;5;28;01mreturn\u001b[39;00m _unstack_extension_series(obj, level, fill_value, sort\u001b[38;5;241m=\u001b[39msort)\n\u001b[1;32m--> 517\u001b[0m unstacker \u001b[38;5;241m=\u001b[39m \u001b[43m_Unstacker\u001b[49m\u001b[43m(\u001b[49m\n\u001b[0;32m    518\u001b[0m \u001b[43m    \u001b[49m\u001b[43mobj\u001b[49m\u001b[38;5;241;43m.\u001b[39;49m\u001b[43mindex\u001b[49m\u001b[43m,\u001b[49m\u001b[43m \u001b[49m\u001b[43mlevel\u001b[49m\u001b[38;5;241;43m=\u001b[39;49m\u001b[43mlevel\u001b[49m\u001b[43m,\u001b[49m\u001b[43m \u001b[49m\u001b[43mconstructor\u001b[49m\u001b[38;5;241;43m=\u001b[39;49m\u001b[43mobj\u001b[49m\u001b[38;5;241;43m.\u001b[39;49m\u001b[43m_constructor_expanddim\u001b[49m\u001b[43m,\u001b[49m\u001b[43m \u001b[49m\u001b[43msort\u001b[49m\u001b[38;5;241;43m=\u001b[39;49m\u001b[43msort\u001b[49m\n\u001b[0;32m    519\u001b[0m \u001b[43m\u001b[49m\u001b[43m)\u001b[49m\n\u001b[0;32m    520\u001b[0m \u001b[38;5;28;01mreturn\u001b[39;00m unstacker\u001b[38;5;241m.\u001b[39mget_result(\n\u001b[0;32m    521\u001b[0m     obj\u001b[38;5;241m.\u001b[39m_values, value_columns\u001b[38;5;241m=\u001b[39m\u001b[38;5;28;01mNone\u001b[39;00m, fill_value\u001b[38;5;241m=\u001b[39mfill_value\n\u001b[0;32m    522\u001b[0m )\n",
      "File \u001b[1;32m~\\Desktop\\LMES\\DS_ML\\.venv\\Lib\\site-packages\\pandas\\core\\reshape\\reshape.py:154\u001b[0m, in \u001b[0;36m_Unstacker.__init__\u001b[1;34m(self, index, level, constructor, sort)\u001b[0m\n\u001b[0;32m    146\u001b[0m \u001b[38;5;28;01mif\u001b[39;00m num_cells \u001b[38;5;241m>\u001b[39m np\u001b[38;5;241m.\u001b[39miinfo(np\u001b[38;5;241m.\u001b[39mint32)\u001b[38;5;241m.\u001b[39mmax:\n\u001b[0;32m    147\u001b[0m     warnings\u001b[38;5;241m.\u001b[39mwarn(\n\u001b[0;32m    148\u001b[0m         \u001b[38;5;124mf\u001b[39m\u001b[38;5;124m\"\u001b[39m\u001b[38;5;124mThe following operation may generate \u001b[39m\u001b[38;5;132;01m{\u001b[39;00mnum_cells\u001b[38;5;132;01m}\u001b[39;00m\u001b[38;5;124m cells \u001b[39m\u001b[38;5;124m\"\u001b[39m\n\u001b[0;32m    149\u001b[0m         \u001b[38;5;124mf\u001b[39m\u001b[38;5;124m\"\u001b[39m\u001b[38;5;124min the resulting pandas object.\u001b[39m\u001b[38;5;124m\"\u001b[39m,\n\u001b[0;32m    150\u001b[0m         PerformanceWarning,\n\u001b[0;32m    151\u001b[0m         stacklevel\u001b[38;5;241m=\u001b[39mfind_stack_level(),\n\u001b[0;32m    152\u001b[0m     )\n\u001b[1;32m--> 154\u001b[0m \u001b[38;5;28;43mself\u001b[39;49m\u001b[38;5;241;43m.\u001b[39;49m\u001b[43m_make_selectors\u001b[49m\u001b[43m(\u001b[49m\u001b[43m)\u001b[49m\n",
      "File \u001b[1;32m~\\Desktop\\LMES\\DS_ML\\.venv\\Lib\\site-packages\\pandas\\core\\reshape\\reshape.py:210\u001b[0m, in \u001b[0;36m_Unstacker._make_selectors\u001b[1;34m(self)\u001b[0m\n\u001b[0;32m    207\u001b[0m mask\u001b[38;5;241m.\u001b[39mput(selector, \u001b[38;5;28;01mTrue\u001b[39;00m)\n\u001b[0;32m    209\u001b[0m \u001b[38;5;28;01mif\u001b[39;00m mask\u001b[38;5;241m.\u001b[39msum() \u001b[38;5;241m<\u001b[39m \u001b[38;5;28mlen\u001b[39m(\u001b[38;5;28mself\u001b[39m\u001b[38;5;241m.\u001b[39mindex):\n\u001b[1;32m--> 210\u001b[0m     \u001b[38;5;28;01mraise\u001b[39;00m \u001b[38;5;167;01mValueError\u001b[39;00m(\u001b[38;5;124m\"\u001b[39m\u001b[38;5;124mIndex contains duplicate entries, cannot reshape\u001b[39m\u001b[38;5;124m\"\u001b[39m)\n\u001b[0;32m    212\u001b[0m \u001b[38;5;28mself\u001b[39m\u001b[38;5;241m.\u001b[39mgroup_index \u001b[38;5;241m=\u001b[39m comp_index\n\u001b[0;32m    213\u001b[0m \u001b[38;5;28mself\u001b[39m\u001b[38;5;241m.\u001b[39mmask \u001b[38;5;241m=\u001b[39m mask\n",
      "\u001b[1;31mValueError\u001b[0m: Index contains duplicate entries, cannot reshape"
     ]
    }
   ],
   "source": [
    "pivoting_new = df.pivot(values = \"price\", index = \"cut\", columns = \"color\")\n",
    "pivoting_new"
   ]
  },
  {
   "cell_type": "code",
   "execution_count": 4,
   "id": "3afff83b-ebcd-4c95-8b94-a0615b7af2b6",
   "metadata": {},
   "outputs": [
    {
     "data": {
      "text/html": [
       "<div>\n",
       "<style scoped>\n",
       "    .dataframe tbody tr th:only-of-type {\n",
       "        vertical-align: middle;\n",
       "    }\n",
       "\n",
       "    .dataframe tbody tr th {\n",
       "        vertical-align: top;\n",
       "    }\n",
       "\n",
       "    .dataframe thead th {\n",
       "        text-align: right;\n",
       "    }\n",
       "</style>\n",
       "<table border=\"1\" class=\"dataframe\">\n",
       "  <thead>\n",
       "    <tr style=\"text-align: right;\">\n",
       "      <th>color</th>\n",
       "      <th>D</th>\n",
       "      <th>E</th>\n",
       "      <th>F</th>\n",
       "      <th>G</th>\n",
       "      <th>H</th>\n",
       "      <th>I</th>\n",
       "      <th>J</th>\n",
       "    </tr>\n",
       "    <tr>\n",
       "      <th>cut</th>\n",
       "      <th></th>\n",
       "      <th></th>\n",
       "      <th></th>\n",
       "      <th></th>\n",
       "      <th></th>\n",
       "      <th></th>\n",
       "      <th></th>\n",
       "    </tr>\n",
       "  </thead>\n",
       "  <tbody>\n",
       "    <tr>\n",
       "      <th>Fair</th>\n",
       "      <td>4291.061350</td>\n",
       "      <td>3682.312500</td>\n",
       "      <td>3827.003205</td>\n",
       "      <td>4239.254777</td>\n",
       "      <td>5135.683168</td>\n",
       "      <td>4685.445714</td>\n",
       "      <td>4975.655462</td>\n",
       "    </tr>\n",
       "    <tr>\n",
       "      <th>Good</th>\n",
       "      <td>3405.382175</td>\n",
       "      <td>3423.644159</td>\n",
       "      <td>3495.750275</td>\n",
       "      <td>4123.482204</td>\n",
       "      <td>4276.254986</td>\n",
       "      <td>5078.532567</td>\n",
       "      <td>4574.172638</td>\n",
       "    </tr>\n",
       "    <tr>\n",
       "      <th>Ideal</th>\n",
       "      <td>2629.094566</td>\n",
       "      <td>2598.132240</td>\n",
       "      <td>3374.939362</td>\n",
       "      <td>3720.706388</td>\n",
       "      <td>3889.334831</td>\n",
       "      <td>4451.970377</td>\n",
       "      <td>4918.186384</td>\n",
       "    </tr>\n",
       "    <tr>\n",
       "      <th>Premium</th>\n",
       "      <td>3631.292576</td>\n",
       "      <td>3540.289812</td>\n",
       "      <td>4324.890176</td>\n",
       "      <td>4500.742134</td>\n",
       "      <td>5216.706780</td>\n",
       "      <td>5950.113525</td>\n",
       "      <td>6294.591584</td>\n",
       "    </tr>\n",
       "    <tr>\n",
       "      <th>Very Good</th>\n",
       "      <td>3470.467284</td>\n",
       "      <td>3214.652083</td>\n",
       "      <td>3778.820240</td>\n",
       "      <td>3872.753806</td>\n",
       "      <td>4535.390351</td>\n",
       "      <td>5255.879568</td>\n",
       "      <td>5103.513274</td>\n",
       "    </tr>\n",
       "  </tbody>\n",
       "</table>\n",
       "</div>"
      ],
      "text/plain": [
       "color                D            E            F            G            H  \\\n",
       "cut                                                                          \n",
       "Fair       4291.061350  3682.312500  3827.003205  4239.254777  5135.683168   \n",
       "Good       3405.382175  3423.644159  3495.750275  4123.482204  4276.254986   \n",
       "Ideal      2629.094566  2598.132240  3374.939362  3720.706388  3889.334831   \n",
       "Premium    3631.292576  3540.289812  4324.890176  4500.742134  5216.706780   \n",
       "Very Good  3470.467284  3214.652083  3778.820240  3872.753806  4535.390351   \n",
       "\n",
       "color                I            J  \n",
       "cut                                  \n",
       "Fair       4685.445714  4975.655462  \n",
       "Good       5078.532567  4574.172638  \n",
       "Ideal      4451.970377  4918.186384  \n",
       "Premium    5950.113525  6294.591584  \n",
       "Very Good  5255.879568  5103.513274  "
      ]
     },
     "execution_count": 4,
     "metadata": {},
     "output_type": "execute_result"
    }
   ],
   "source": [
    "pivot_using_group = df.groupby(['cut','color'])['price'].mean().unstack()\n",
    "pivot_using_group"
   ]
  },
  {
   "cell_type": "code",
   "execution_count": 5,
   "id": "0c30b1c0-d835-44cb-9507-de71880f8de5",
   "metadata": {},
   "outputs": [
    {
     "data": {
      "text/plain": [
       "cut        color\n",
       "Fair       D        4291.061350\n",
       "           E        3682.312500\n",
       "           F        3827.003205\n",
       "           G        4239.254777\n",
       "           H        5135.683168\n",
       "           I        4685.445714\n",
       "           J        4975.655462\n",
       "Good       D        3405.382175\n",
       "           E        3423.644159\n",
       "           F        3495.750275\n",
       "           G        4123.482204\n",
       "           H        4276.254986\n",
       "           I        5078.532567\n",
       "           J        4574.172638\n",
       "Ideal      D        2629.094566\n",
       "           E        2598.132240\n",
       "           F        3374.939362\n",
       "           G        3720.706388\n",
       "           H        3889.334831\n",
       "           I        4451.970377\n",
       "           J        4918.186384\n",
       "Premium    D        3631.292576\n",
       "           E        3540.289812\n",
       "           F        4324.890176\n",
       "           G        4500.742134\n",
       "           H        5216.706780\n",
       "           I        5950.113525\n",
       "           J        6294.591584\n",
       "Very Good  D        3470.467284\n",
       "           E        3214.652083\n",
       "           F        3778.820240\n",
       "           G        3872.753806\n",
       "           H        4535.390351\n",
       "           I        5255.879568\n",
       "           J        5103.513274\n",
       "Name: price, dtype: float64"
      ]
     },
     "execution_count": 5,
     "metadata": {},
     "output_type": "execute_result"
    }
   ],
   "source": [
    "pivot_using_group1 = df.groupby(['cut','color'])['price'].mean()\n",
    "pivot_using_group1"
   ]
  },
  {
   "cell_type": "code",
   "execution_count": 6,
   "id": "0e98ce57-8ea6-4472-a81e-d12beda54dc6",
   "metadata": {},
   "outputs": [
    {
     "data": {
      "text/plain": [
       "pandas.core.series.Series"
      ]
     },
     "execution_count": 6,
     "metadata": {},
     "output_type": "execute_result"
    }
   ],
   "source": [
    "type(pivot_using_group1)"
   ]
  },
  {
   "cell_type": "code",
   "execution_count": 7,
   "id": "ba9bc17c-df8a-4969-b787-ab124f6b8a01",
   "metadata": {},
   "outputs": [
    {
     "data": {
      "text/html": [
       "<div>\n",
       "<style scoped>\n",
       "    .dataframe tbody tr th:only-of-type {\n",
       "        vertical-align: middle;\n",
       "    }\n",
       "\n",
       "    .dataframe tbody tr th {\n",
       "        vertical-align: top;\n",
       "    }\n",
       "\n",
       "    .dataframe thead th {\n",
       "        text-align: right;\n",
       "    }\n",
       "</style>\n",
       "<table border=\"1\" class=\"dataframe\">\n",
       "  <thead>\n",
       "    <tr style=\"text-align: right;\">\n",
       "      <th></th>\n",
       "      <th>cut</th>\n",
       "      <th>color</th>\n",
       "      <th>Metric</th>\n",
       "      <th>Value</th>\n",
       "    </tr>\n",
       "  </thead>\n",
       "  <tbody>\n",
       "    <tr>\n",
       "      <th>0</th>\n",
       "      <td>NaN</td>\n",
       "      <td>E</td>\n",
       "      <td>price</td>\n",
       "      <td>326.0</td>\n",
       "    </tr>\n",
       "    <tr>\n",
       "      <th>1</th>\n",
       "      <td>NaN</td>\n",
       "      <td>E</td>\n",
       "      <td>price</td>\n",
       "      <td>326.0</td>\n",
       "    </tr>\n",
       "    <tr>\n",
       "      <th>2</th>\n",
       "      <td>Good</td>\n",
       "      <td>E</td>\n",
       "      <td>price</td>\n",
       "      <td>327.0</td>\n",
       "    </tr>\n",
       "    <tr>\n",
       "      <th>3</th>\n",
       "      <td>Premium</td>\n",
       "      <td>I</td>\n",
       "      <td>price</td>\n",
       "      <td>NaN</td>\n",
       "    </tr>\n",
       "    <tr>\n",
       "      <th>4</th>\n",
       "      <td>Good</td>\n",
       "      <td>J</td>\n",
       "      <td>price</td>\n",
       "      <td>335.0</td>\n",
       "    </tr>\n",
       "  </tbody>\n",
       "</table>\n",
       "</div>"
      ],
      "text/plain": [
       "       cut color Metric  Value\n",
       "0      NaN     E  price  326.0\n",
       "1      NaN     E  price  326.0\n",
       "2     Good     E  price  327.0\n",
       "3  Premium     I  price    NaN\n",
       "4     Good     J  price  335.0"
      ]
     },
     "execution_count": 7,
     "metadata": {},
     "output_type": "execute_result"
    }
   ],
   "source": [
    "df_melted = df.melt(id_vars=[\"cut\", \"color\"], value_vars=[\"price\"], var_name=\"Metric\", value_name=\"Value\")\n",
    "df_melted.head()\n"
   ]
  },
  {
   "cell_type": "code",
   "execution_count": 8,
   "id": "39b8290a-97f7-4f96-8dfb-dad14f3c98fa",
   "metadata": {},
   "outputs": [
    {
     "name": "stdout",
     "output_type": "stream",
     "text": [
      "color         D     E     F     G     H     I    J\n",
      "cut                                               \n",
      "Fair        163   224   312   314   303   175  119\n",
      "Good        662   933   909   871   702   522  307\n",
      "Ideal      2834  3902  3826  4884  3115  2093  896\n",
      "Premium    1603  2336  2331  2924  2360  1428  808\n",
      "Very Good  1513  2400  2164  2299  1824  1204  678\n"
     ]
    }
   ],
   "source": [
    "df_crosstab = pd.crosstab(df[\"cut\"], df[\"color\"])\n",
    "print(df_crosstab)\n"
   ]
  },
  {
   "cell_type": "code",
   "execution_count": 9,
   "id": "2bf4a79a-a934-40ee-9149-13d5e9831965",
   "metadata": {},
   "outputs": [
    {
     "name": "stdout",
     "output_type": "stream",
     "text": [
      "        Date Product  Sales Region\n",
      "0 2024-01-01   Apple    100  North\n",
      "1 2024-01-01  Banana     80  South\n",
      "2 2024-01-02   Apple    150   East\n",
      "3 2024-01-02  Banana     90   West\n",
      "4 2024-01-03   Apple    200  North\n",
      "5 2024-01-03  Banana    120  South\n"
     ]
    }
   ],
   "source": [
    "import pandas as pd\n",
    "\n",
    "# Create a sample DataFrame with time-based data\n",
    "data = {\n",
    "    \"Date\": pd.to_datetime([\n",
    "        \"2024-01-01\", \"2024-01-01\", \"2024-01-02\", \n",
    "        \"2024-01-02\", \"2024-01-03\", \"2024-01-03\"\n",
    "    ]),\n",
    "    \"Product\": [\"Apple\", \"Banana\", \"Apple\", \"Banana\", \"Apple\", \"Banana\"],\n",
    "    \"Sales\": [100, 80, 150, 90, 200, 120],\n",
    "    \"Region\": [\"North\", \"South\", \"East\", \"West\", \"North\", \"South\"]\n",
    "}\n",
    "\n",
    "df = pd.DataFrame(data)\n",
    "\n",
    "# Display the DataFrame\n",
    "print(df)\n"
   ]
  },
  {
   "cell_type": "code",
   "execution_count": 10,
   "id": "ac09af14-e050-401d-aa24-9a95cc74ea1c",
   "metadata": {},
   "outputs": [
    {
     "name": "stdout",
     "output_type": "stream",
     "text": [
      "Product     Apple  Banana\n",
      "Date                     \n",
      "2024-01-01    100      80\n",
      "2024-01-02    150      90\n",
      "2024-01-03    200     120\n"
     ]
    }
   ],
   "source": [
    "# Pivot table: Sum of sales for each product per day\n",
    "pivot_table = df.pivot_table(values=\"Sales\", index=\"Date\", columns=\"Product\", aggfunc=\"sum\")\n",
    "\n",
    "# Display the pivot table\n",
    "print(pivot_table)\n"
   ]
  },
  {
   "cell_type": "code",
   "execution_count": 11,
   "id": "1d7b4546-c417-493f-b97f-ee7c89452712",
   "metadata": {},
   "outputs": [
    {
     "name": "stdout",
     "output_type": "stream",
     "text": [
      "                                      Product  Sales  \\\n",
      "Date                                                   \n",
      "2024-01-07  AppleBananaAppleBananaAppleBanana    740   \n",
      "\n",
      "                                  Region  \n",
      "Date                                      \n",
      "2024-01-07  NorthSouthEastWestNorthSouth  \n"
     ]
    }
   ],
   "source": [
    "# Resample to get weekly sales sum\n",
    "weekly_sales = df.set_index(\"Date\").resample(\"W\").sum()\n",
    "\n",
    "# Display weekly sales\n",
    "print(weekly_sales)\n"
   ]
  },
  {
   "cell_type": "code",
   "execution_count": 12,
   "id": "f610ba85-00b7-4c7e-a71a-8f0b1ec9841e",
   "metadata": {},
   "outputs": [
    {
     "name": "stdout",
     "output_type": "stream",
     "text": [
      "                Product  Sales      Region\n",
      "Date                                      \n",
      "2024-01-01  AppleBanana    180  NorthSouth\n",
      "2024-01-02  AppleBanana    240    EastWest\n",
      "2024-01-03  AppleBanana    320  NorthSouth\n"
     ]
    }
   ],
   "source": [
    "# Resample to get weekly sales sum\n",
    "weekly_sales = df.set_index(\"Date\").resample(\"D\").sum()\n",
    "\n",
    "# Display weekly sales\n",
    "print(weekly_sales)"
   ]
  },
  {
   "cell_type": "code",
   "execution_count": 13,
   "id": "6b64d314-3583-44a9-9ea0-07529926723d",
   "metadata": {},
   "outputs": [
    {
     "name": "stdout",
     "output_type": "stream",
     "text": [
      "        Date  Sales  Year  Month  Day    Weekday  Week_Number\n",
      "0 2024-01-01    100  2024      1    1     Monday            1\n",
      "1 2024-01-05    150  2024      1    5     Friday            1\n",
      "2 2024-02-10    200  2024      2   10   Saturday            6\n",
      "3 2024-02-15    250  2024      2   15   Thursday            7\n",
      "4 2024-03-20    300  2024      3   20  Wednesday           12\n"
     ]
    }
   ],
   "source": [
    "import pandas as pd\n",
    "\n",
    "# Create a sample DataFrame\n",
    "data = {\n",
    "    \"Date\": pd.to_datetime([\"2024-01-01\", \"2024-01-05\", \"2024-02-10\", \"2024-02-15\", \"2024-03-20\"]),\n",
    "    \"Sales\": [100, 150, 200, 250, 300]\n",
    "}\n",
    "\n",
    "df = pd.DataFrame(data)\n",
    "\n",
    "# Extracting time-based features\n",
    "df[\"Year\"] = df[\"Date\"].dt.year\n",
    "df[\"Month\"] = df[\"Date\"].dt.month\n",
    "df[\"Day\"] = df[\"Date\"].dt.day\n",
    "df[\"Weekday\"] = df[\"Date\"].dt.day_name()\n",
    "df[\"Week_Number\"] = df[\"Date\"].dt.isocalendar().week\n",
    "\n",
    "print(df)\n"
   ]
  },
  {
   "cell_type": "code",
   "execution_count": 14,
   "id": "b4aeae47-7fb6-4800-b115-dc1f03ee3792",
   "metadata": {},
   "outputs": [
    {
     "name": "stdout",
     "output_type": "stream",
     "text": [
      "        Date  Sales  Year  Month  Day    Weekday  Week_Number\n",
      "2 2024-02-10    200  2024      2   10   Saturday            6\n",
      "3 2024-02-15    250  2024      2   15   Thursday            7\n",
      "4 2024-03-20    300  2024      3   20  Wednesday           12\n"
     ]
    }
   ],
   "source": [
    "# Filter sales after February 1st, 2024\n",
    "filtered_df = df[df[\"Date\"] >= \"2024-02-01\"]\n",
    "print(filtered_df)\n"
   ]
  },
  {
   "cell_type": "code",
   "execution_count": 15,
   "id": "03fafb06-1467-440d-982f-b25e1c697ae2",
   "metadata": {},
   "outputs": [
    {
     "name": "stdout",
     "output_type": "stream",
     "text": [
      "Date\n",
      "2024-01    250\n",
      "2024-02    450\n",
      "2024-03    300\n",
      "Freq: M, Name: Sales, dtype: int64\n"
     ]
    }
   ],
   "source": [
    "# Group by Month and get total sales\n",
    "monthly_sales = df.groupby(df[\"Date\"].dt.to_period(\"M\"))[\"Sales\"].sum()\n",
    "print(monthly_sales)\n"
   ]
  },
  {
   "cell_type": "code",
   "execution_count": 17,
   "id": "9388299b-10a5-43ed-b444-14fc59ae29e6",
   "metadata": {},
   "outputs": [
    {
     "name": "stdout",
     "output_type": "stream",
     "text": [
      "        Date  Sales  Year  Month  Day    Weekday  Week_Number  Sales_MA\n",
      "0 2024-01-01    100  2024      1    1     Monday            1       NaN\n",
      "1 2024-01-05    150  2024      1    5     Friday            1       NaN\n",
      "2 2024-02-10    200  2024      2   10   Saturday            6     150.0\n",
      "3 2024-02-15    250  2024      2   15   Thursday            7     200.0\n",
      "4 2024-03-20    300  2024      3   20  Wednesday           12     250.0\n"
     ]
    }
   ],
   "source": [
    "# Create a rolling 2-day moving average on Sales\n",
    "df[\"Sales_MA\"] = df[\"Sales\"].rolling(window=3).mean()\n",
    "print(df)\n"
   ]
  },
  {
   "cell_type": "code",
   "execution_count": 18,
   "id": "9a3f04fe-eb99-45ee-83a4-40c0100f2118",
   "metadata": {},
   "outputs": [
    {
     "name": "stdout",
     "output_type": "stream",
     "text": [
      "        Date  Sales  Year  Month  Day    Weekday  Week_Number  Sales_MA  \\\n",
      "0 2024-01-01    100  2024      1    1     Monday            1       NaN   \n",
      "1 2024-01-05    150  2024      1    5     Friday            1       NaN   \n",
      "2 2024-02-10    200  2024      2   10   Saturday            6     150.0   \n",
      "3 2024-02-15    250  2024      2   15   Thursday            7     200.0   \n",
      "4 2024-03-20    300  2024      3   20  Wednesday           12     250.0   \n",
      "\n",
      "  Previous_Sale_Date  Days_Difference  \n",
      "0                NaT              NaN  \n",
      "1         2024-01-01              4.0  \n",
      "2         2024-01-05             36.0  \n",
      "3         2024-02-10              5.0  \n",
      "4         2024-02-15             34.0  \n"
     ]
    }
   ],
   "source": [
    "df[\"Previous_Sale_Date\"] = df[\"Date\"].shift(1)  # Shift previous date\n",
    "df[\"Days_Difference\"] = (df[\"Date\"] - df[\"Previous_Sale_Date\"]).dt.days\n",
    "print(df)\n"
   ]
  },
  {
   "cell_type": "code",
   "execution_count": 19,
   "id": "dd870397-204b-4ef5-9974-6e198febf6ae",
   "metadata": {},
   "outputs": [
    {
     "name": "stdout",
     "output_type": "stream",
     "text": [
      "DatetimeIndex(['2024-01-01', '2024-01-02', '2024-01-03', '2024-01-04',\n",
      "               '2024-01-05', '2024-01-06', '2024-01-07', '2024-01-08',\n",
      "               '2024-01-09', '2024-01-10', '2024-01-11', '2024-01-12',\n",
      "               '2024-01-13', '2024-01-14', '2024-01-15', '2024-01-16',\n",
      "               '2024-01-17', '2024-01-18', '2024-01-19', '2024-01-20',\n",
      "               '2024-01-21', '2024-01-22', '2024-01-23', '2024-01-24',\n",
      "               '2024-01-25', '2024-01-26', '2024-01-27', '2024-01-28',\n",
      "               '2024-01-29', '2024-01-30', '2024-01-31', '2024-02-01',\n",
      "               '2024-02-02', '2024-02-03', '2024-02-04', '2024-02-05',\n",
      "               '2024-02-06', '2024-02-07', '2024-02-08', '2024-02-09',\n",
      "               '2024-02-10', '2024-02-11', '2024-02-12', '2024-02-13',\n",
      "               '2024-02-14', '2024-02-15', '2024-02-16', '2024-02-17',\n",
      "               '2024-02-18', '2024-02-19', '2024-02-20', '2024-02-21',\n",
      "               '2024-02-22', '2024-02-23', '2024-02-24', '2024-02-25',\n",
      "               '2024-02-26', '2024-02-27', '2024-02-28', '2024-02-29',\n",
      "               '2024-03-01', '2024-03-02', '2024-03-03', '2024-03-04',\n",
      "               '2024-03-05', '2024-03-06', '2024-03-07', '2024-03-08',\n",
      "               '2024-03-09', '2024-03-10', '2024-03-11', '2024-03-12',\n",
      "               '2024-03-13', '2024-03-14', '2024-03-15', '2024-03-16',\n",
      "               '2024-03-17', '2024-03-18', '2024-03-19', '2024-03-20',\n",
      "               '2024-03-21', '2024-03-22', '2024-03-23', '2024-03-24',\n",
      "               '2024-03-25', '2024-03-26', '2024-03-27', '2024-03-28',\n",
      "               '2024-03-29', '2024-03-30', '2024-03-31'],\n",
      "              dtype='datetime64[ns]', freq='D')\n"
     ]
    }
   ],
   "source": [
    "# Generate a complete date range from Jan 1 to Mar 31, 2024\n",
    "date_range = pd.date_range(start=\"2024-01-01\", end=\"2024-03-31\", freq=\"D\")\n",
    "print(date_range)\n"
   ]
  },
  {
   "cell_type": "code",
   "execution_count": 20,
   "id": "8bb43786-94aa-4b99-9187-b4b1d60c767e",
   "metadata": {},
   "outputs": [
    {
     "name": "stderr",
     "output_type": "stream",
     "text": [
      "C:\\Users\\hp\\AppData\\Local\\Temp\\ipykernel_4624\\3211781452.py:9: FutureWarning: 'M' is deprecated and will be removed in a future version, please use 'ME' instead.\n",
      "  'Date': pd.date_range(start='2023-01-01', periods=12, freq='M'),\n",
      "C:\\Users\\hp\\Desktop\\LMES\\DS_ML\\.venv\\Lib\\site-packages\\statsmodels\\tsa\\base\\tsa_model.py:473: ValueWarning: No frequency information was provided, so inferred frequency ME will be used.\n",
      "  self._init_dates(dates, freq)\n",
      "C:\\Users\\hp\\Desktop\\LMES\\DS_ML\\.venv\\Lib\\site-packages\\statsmodels\\tsa\\base\\tsa_model.py:473: ValueWarning: No frequency information was provided, so inferred frequency ME will be used.\n",
      "  self._init_dates(dates, freq)\n",
      "C:\\Users\\hp\\Desktop\\LMES\\DS_ML\\.venv\\Lib\\site-packages\\statsmodels\\tsa\\base\\tsa_model.py:473: ValueWarning: No frequency information was provided, so inferred frequency ME will be used.\n",
      "  self._init_dates(dates, freq)\n",
      "C:\\Users\\hp\\Desktop\\LMES\\DS_ML\\.venv\\Lib\\site-packages\\statsmodels\\tsa\\statespace\\sarimax.py:966: UserWarning: Non-stationary starting autoregressive parameters found. Using zeros as starting parameters.\n",
      "  warn('Non-stationary starting autoregressive parameters'\n",
      "C:\\Users\\hp\\Desktop\\LMES\\DS_ML\\.venv\\Lib\\site-packages\\statsmodels\\base\\model.py:607: ConvergenceWarning: Maximum Likelihood optimization failed to converge. Check mle_retvals\n",
      "  warnings.warn(\"Maximum Likelihood optimization failed to \"\n"
     ]
    },
    {
     "name": "stdout",
     "output_type": "stream",
     "text": [
      "Original Data:\n",
      "             Sales\n",
      "Date             \n",
      "2023-01-31    200\n",
      "2023-02-28    220\n",
      "2023-03-31    230\n",
      "2023-04-30    240\n",
      "2023-05-31    250\n",
      "2023-06-30    260\n",
      "2023-07-31    270\n",
      "2023-08-31    290\n",
      "2023-09-30    300\n",
      "2023-10-31    320\n",
      "2023-11-30    340\n",
      "2023-12-31    360\n"
     ]
    },
    {
     "data": {
      "image/png": "[encoded data removed]",
      "text/plain": [
       "<Figure size 1000x600 with 1 Axes>"
      ]
     },
     "metadata": {},
     "output_type": "display_data"
    },
    {
     "name": "stdout",
     "output_type": "stream",
     "text": [
      "Mean Squared Error: 118.13491965113262\n",
      "                               SARIMAX Results                                \n",
      "==============================================================================\n",
      "Dep. Variable:                  Sales   No. Observations:                   10\n",
      "Model:                 ARIMA(1, 1, 1)   Log Likelihood                 -29.332\n",
      "Date:                Wed, 05 Feb 2025   AIC                             64.665\n",
      "Time:                        16:40:43   BIC                             65.256\n",
      "Sample:                    01-31-2023   HQIC                            63.388\n",
      "                         - 10-31-2023                                         \n",
      "Covariance Type:                  opg                                         \n",
      "==============================================================================\n",
      "                 coef    std err          z      P>|z|      [0.025      0.975]\n",
      "------------------------------------------------------------------------------\n",
      "ar.L1          1.0000      0.001   1118.226      0.000       0.998       1.002\n",
      "ma.L1         -0.9922      0.797     -1.244      0.213      -2.555       0.571\n",
      "sigma2        25.1635      0.032    798.520      0.000      25.102      25.225\n",
      "===================================================================================\n",
      "Ljung-Box (L1) (Q):                   0.63   Jarque-Bera (JB):                 1.24\n",
      "Prob(Q):                              0.43   Prob(JB):                         0.54\n",
      "Heteroskedasticity (H):               1.35   Skew:                             0.56\n",
      "Prob(H) (two-sided):                  0.81   Kurtosis:                         1.56\n",
      "===================================================================================\n",
      "\n",
      "Warnings:\n",
      "[1] Covariance matrix calculated using the outer product of gradients (complex-step).\n",
      "[2] Covariance matrix is singular or near-singular, with condition number 3.03e+18. Standard errors may be unstable.\n"
     ]
    }
   ],
   "source": [
    "import pandas as pd\n",
    "import numpy as np\n",
    "import matplotlib.pyplot as plt\n",
    "from statsmodels.tsa.arima.model import ARIMA\n",
    "from sklearn.metrics import mean_squared_error\n",
    "\n",
    "# 1. Create a simple time series dataset (e.g., sales data over time)\n",
    "data = {\n",
    "    'Date': pd.date_range(start='2023-01-01', periods=12, freq='M'),\n",
    "    'Sales': [200, 220, 230, 240, 250, 260, 270, 290, 300, 320, 340, 360]\n",
    "}\n",
    "\n",
    "# Convert to DataFrame\n",
    "df = pd.DataFrame(data)\n",
    "\n",
    "# Set the 'Date' column as the index\n",
    "df.set_index('Date', inplace=True)\n",
    "\n",
    "# Display the dataset\n",
    "print(\"Original Data:\\n\", df)\n",
    "\n",
    "# 2. Split the data into train and test sets\n",
    "train = df[:10]  # First 10 months for training\n",
    "test = df[10:]   # Last 2 months for testing\n",
    "\n",
    "# 3. Fit the ARIMA model to the training data (we'll use order (1, 1, 1) as an example)\n",
    "model = ARIMA(train['Sales'], order=(1, 1, 1))\n",
    "model_fit = model.fit()\n",
    "\n",
    "# 4. Make predictions\n",
    "predictions = model_fit.forecast(steps=len(test))\n",
    "\n",
    "# 5. Plot the original data, training data, and forecasted data\n",
    "\n",
    "plt.plot(df.index, df['Sales'], label='Original Sales Data', color='blue')\n",
    "plt.plot(train.index, train['Sales'], label='Training Data', color='green')\n",
    "plt.plot(test.index, predictions, label='Predictions', color='red', linestyle='--')\n",
    "plt.title('Sales Data and ARIMA Forecast')\n",
    "plt.xlabel('Date')\n",
    "plt.ylabel('Sales')\n",
    "plt.legend()\n",
    "plt.show()\n",
    "\n",
    "# 6. Evaluate the model performance\n",
    "mse = mean_squared_error(test['Sales'], predictions)\n",
    "print(f'Mean Squared Error: {mse}')\n",
    "\n",
    "# Print the model summary\n",
    "print(model_fit.summary())\n"
   ]
  },
  {
   "cell_type": "code",
   "execution_count": 22,
   "id": "ea430037-5028-4771-9614-1b8e2a2f4b8d",
   "metadata": {},
   "outputs": [
    {
     "name": "stdout",
     "output_type": "stream",
     "text": [
      "        Date  Sales                  Date_UTC                  Date_EST\n",
      "0 2024-01-01    100 2024-01-01 00:00:00+00:00 2023-12-31 19:00:00-05:00\n",
      "1 2024-01-05    150 2024-01-05 00:00:00+00:00 2024-01-04 19:00:00-05:00\n",
      "2 2024-02-10    200 2024-02-10 00:00:00+00:00 2024-02-09 19:00:00-05:00\n",
      "3 2024-02-15    250 2024-02-15 00:00:00+00:00 2024-02-14 19:00:00-05:00\n",
      "4 2024-03-20    300 2024-03-20 00:00:00+00:00 2024-03-19 20:00:00-04:00\n"
     ]
    }
   ],
   "source": [
    "# Convert DateTime to a different time zone\n",
    "data = {\n",
    "    \"Date\": pd.to_datetime([\"2024-01-01\", \"2024-01-05\", \"2024-02-10\", \"2024-02-15\", \"2024-03-20\"]),\n",
    "    \"Sales\": [100, 150, 200, 250, 300]\n",
    "}\n",
    "df = pd.DataFrame(data)\n",
    "df[\"Date_UTC\"] = df[\"Date\"].dt.tz_localize(\"UTC\")\n",
    "df[\"Date_EST\"] = df[\"Date_UTC\"].dt.tz_convert(\"US/Eastern\")\n",
    "print(df)\n"
   ]
  },
  {
   "cell_type": "code",
   "execution_count": 23,
   "id": "db7472ed-3d31-4e63-bf25-763c2ef38579",
   "metadata": {},
   "outputs": [
    {
     "name": "stdout",
     "output_type": "stream",
     "text": [
      "Original Data:\n",
      "             Sales\n",
      "Date             \n",
      "2023-01-31    200\n",
      "2023-02-28    220\n",
      "2023-03-31    230\n",
      "2023-04-30    240\n",
      "2023-05-31    250\n",
      "2023-06-30    260\n",
      "2023-07-31    270\n",
      "2023-08-31    290\n",
      "2023-09-30    300\n",
      "2023-10-31    320\n",
      "2023-11-30    340\n",
      "2023-12-31    360\n"
     ]
    },
    {
     "name": "stderr",
     "output_type": "stream",
     "text": [
      "C:\\Users\\hp\\AppData\\Local\\Temp\\ipykernel_4624\\1010754839.py:8: FutureWarning: 'M' is deprecated and will be removed in a future version, please use 'ME' instead.\n",
      "  'Date': pd.date_range(start='2023-01-01', periods=12, freq='M'),\n",
      "C:\\Users\\hp\\Desktop\\LMES\\DS_ML\\.venv\\Lib\\site-packages\\statsmodels\\tsa\\base\\tsa_model.py:473: ValueWarning: No frequency information was provided, so inferred frequency ME will be used.\n",
      "  self._init_dates(dates, freq)\n",
      "C:\\Users\\hp\\Desktop\\LMES\\DS_ML\\.venv\\Lib\\site-packages\\statsmodels\\tsa\\deterministic.py:308: UserWarning: Only PeriodIndexes, DatetimeIndexes with a frequency set, RangesIndexes, and Index with a unit increment support extending. The index is set will contain the position relative to the data length.\n",
      "  fcast_index = self._extend_index(index, steps, forecast_index)\n"
     ]
    },
    {
     "data": {
      "image/png": "[encoded data removed]",
      "text/plain": [
       "<Figure size 1000x600 with 1 Axes>"
      ]
     },
     "metadata": {},
     "output_type": "display_data"
    },
    {
     "name": "stdout",
     "output_type": "stream",
     "text": [
      "Mean Squared Error: 67.5771723163272\n",
      "                            AutoReg Model Results                             \n",
      "==============================================================================\n",
      "Dep. Variable:                  Sales   No. Observations:                   10\n",
      "Model:                     AutoReg(1)   Log Likelihood                 -26.651\n",
      "Method:               Conditional MLE   S.D. of innovations              4.675\n",
      "Date:                Wed, 05 Feb 2025   AIC                             59.302\n",
      "Time:                        17:37:56   BIC                             59.894\n",
      "Sample:                    02-28-2023   HQIC                            58.025\n",
      "                         - 10-31-2023                                         \n",
      "==============================================================================\n",
      "                 coef    std err          z      P>|z|      [0.025      0.975]\n",
      "------------------------------------------------------------------------------\n",
      "const          8.4031     12.837      0.655      0.513     -16.758      33.564\n",
      "Sales.L1       1.0196      0.051     20.094      0.000       0.920       1.119\n",
      "                                    Roots                                    \n",
      "=============================================================================\n",
      "                  Real          Imaginary           Modulus         Frequency\n",
      "-----------------------------------------------------------------------------\n",
      "AR.1            0.9807           +0.0000j            0.9807            0.0000\n",
      "-----------------------------------------------------------------------------\n"
     ]
    }
   ],
   "source": [
    "import pandas as pd\n",
    "import numpy as np\n",
    "import matplotlib.pyplot as plt\n",
    "from statsmodels.tsa.ar_model import AutoReg\n",
    "\n",
    "# 1. Create a simple time series dataset (e.g., sales data over time)\n",
    "data = {\n",
    "    'Date': pd.date_range(start='2023-01-01', periods=12, freq='M'),\n",
    "    'Sales': [200, 220, 230, 240, 250, 260, 270, 290, 300, 320, 340, 360]\n",
    "}\n",
    "\n",
    "# Convert to DataFrame\n",
    "df = pd.DataFrame(data)\n",
    "\n",
    "# Set the 'Date' column as the index\n",
    "df.set_index('Date', inplace=True)\n",
    "\n",
    "# Display the dataset\n",
    "print(\"Original Data:\\n\", df)\n",
    "\n",
    "# 2. Split the data into train and test sets\n",
    "train = df['Sales'][:10]  # First 10 months for training\n",
    "test = df['Sales'][10:]   # Last 2 months for testing\n",
    "\n",
    "# 3. Fit the AutoRegressive (AR) model to the training data\n",
    "# We use lag=1 for simplicity (you can experiment with other lag values)\n",
    "model = AutoReg(train, lags=1)\n",
    "model_fit = model.fit()\n",
    "\n",
    "# 4. Make predictions\n",
    "predictions = model_fit.predict(start=len(train), end=len(train) + len(test) - 1, dynamic=False)\n",
    "\n",
    "# 5. Plot the original data, training data, and forecasted data\n",
    "plt.figure(figsize=(10, 6))\n",
    "plt.plot(df.index, df['Sales'], label='Original Sales Data', color='blue')\n",
    "plt.plot(train.index, train, label='Training Data', color='green')\n",
    "plt.plot(test.index, predictions, label='AR Predictions', color='red', linestyle='--')\n",
    "plt.title('Sales Data and AR Model Forecast')\n",
    "plt.xlabel('Date')\n",
    "plt.ylabel('Sales')\n",
    "plt.legend()\n",
    "plt.show()\n",
    "\n",
    "# 6. Evaluate the model performance (Mean Squared Error)\n",
    "from sklearn.metrics import mean_squared_error\n",
    "mse = mean_squared_error(test, predictions)\n",
    "print(f'Mean Squared Error: {mse}')\n",
    "\n",
    "# Print the model summary\n",
    "print(model_fit.summary())\n"
   ]
  },
  {
   "cell_type": "code",
   "execution_count": null,
   "id": "bceaee7b-9299-4724-9fdd-0f2239280f0e",
   "metadata": {},
   "outputs": [],
   "source": [
    "import pandas as pd\n",
    "\n",
    "# Create a simple DataFrame\n",
    "data = {'A': range(1, 11), 'B': range(11, 21)}\n",
    "df = pd.DataFrame(data)\n",
    "\n",
    "# Specify the chunk size\n",
    "chunk_size = 3\n",
    "\n",
    "# Create a generator to yield chunks\n",
    "chunks = [df.iloc[i:i + chunk_size] for i in range(0, len(df), chunk_size)]\n",
    "\n",
    "# Process each chunk\n",
    "for chunk in chunks:\n",
    "    # Example operation: filter rows where column 'A' is greater than 5\n",
    "    filtered_chunk = chunk[chunk['A'] > 5]\n",
    "    \n",
    "    # Display the filtered chunk\n",
    "    print(filtered_chunk)\n"
   ]
  }
 ],
 "metadata": {
  "kernelspec": {
   "display_name": "Python 3 (ipykernel)",
   "language": "python",
   "name": "python3"
  },
  "language_info": {
   "codemirror_mode": {
    "name": "ipython",
    "version": 3
   },
   "file_extension": ".py",
   "mimetype": "text/x-python",
   "name": "python",
   "nbconvert_exporter": "python",
   "pygments_lexer": "ipython3",
   "version": "3.12.5"
  }
 },
 "nbformat": 4,
 "nbformat_minor": 5
}
